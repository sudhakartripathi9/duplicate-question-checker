{
  "metadata": {
    "kernelspec": {
      "display_name": "Python 3",
      "name": "python3"
    },
    "language_info": {
      "name": "python",
      "version": "3.10.13",
      "mimetype": "text/x-python",
      "codemirror_mode": {
        "name": "ipython",
        "version": 3
      },
      "pygments_lexer": "ipython3",
      "nbconvert_exporter": "python",
      "file_extension": ".py"
    },
    "kaggle": {
      "accelerator": "none",
      "dataSources": [
        {
          "sourceId": 8007015,
          "sourceType": "datasetVersion",
          "datasetId": 4715880
        }
      ],
      "dockerImageVersionId": 30684,
      "isInternetEnabled": true,
      "language": "python",
      "sourceType": "notebook",
      "isGpuEnabled": false
    },
    "colab": {
      "name": "quesestion nduplicate checking using DL",
      "provenance": [],
      "gpuType": "T4"
    },
    "accelerator": "GPU"
  },
  "nbformat_minor": 0,
  "nbformat": 4,
  "cells": [
    {
      "source": [
        "\n",
        "# IMPORTANT: RUN THIS CELL IN ORDER TO IMPORT YOUR KAGGLE DATA SOURCES\n",
        "# TO THE CORRECT LOCATION (/kaggle/input) IN YOUR NOTEBOOK,\n",
        "# THEN FEEL FREE TO DELETE THIS CELL.\n",
        "# NOTE: THIS NOTEBOOK ENVIRONMENT DIFFERS FROM KAGGLE'S PYTHON\n",
        "# ENVIRONMENT SO THERE MAY BE MISSING LIBRARIES USED BY YOUR\n",
        "# NOTEBOOK.\n",
        "\n",
        "import os\n",
        "import sys\n",
        "from tempfile import NamedTemporaryFile\n",
        "from urllib.request import urlopen\n",
        "from urllib.parse import unquote, urlparse\n",
        "from urllib.error import HTTPError\n",
        "from zipfile import ZipFile\n",
        "import tarfile\n",
        "import shutil\n",
        "\n",
        "CHUNK_SIZE = 40960\n",
        "DATA_SOURCE_MAPPING = 'quara-dataset:https%3A%2F%2Fstorage.googleapis.com%2Fkaggle-data-sets%2F4715880%2F8007015%2Fbundle%2Farchive.zip%3FX-Goog-Algorithm%3DGOOG4-RSA-SHA256%26X-Goog-Credential%3Dgcp-kaggle-com%2540kaggle-161607.iam.gserviceaccount.com%252F20240420%252Fauto%252Fstorage%252Fgoog4_request%26X-Goog-Date%3D20240420T061734Z%26X-Goog-Expires%3D259200%26X-Goog-SignedHeaders%3Dhost%26X-Goog-Signature%3Da3072e438a3a32dd44c0f99f357ec0acaf5429f9186b3c98d915e8a91776cd1d8c7c9e48c1cbaba4bd59ac36ccf4e6f7650ad35ef25711ee20c6afc767fce45bf0c809bb9bd16d25330ea2d61e6755c7daf43f94cc112050461e45ff01629c1fd45f804b44f3fd41e7458dfe48eb5086ccb02cc49877c268b4da8a54a16425a73020d0edc1a16bab50482e05b6ac0f5a51287f563e86fff55211098ba9f14e33343c771dc84765d23530d6e730f3036f85fc456529c6e74cb57512f1927ee1179bb2dcdf8295c77c61156f9e0e6cb9fe2a7dc06d9ae468bc27cabb338a44189e48b797b319855acb43f6e7e24287973d96fad09c0a2587c5e9fe05a498473a21'\n",
        "\n",
        "KAGGLE_INPUT_PATH='/kaggle/input'\n",
        "KAGGLE_WORKING_PATH='/kaggle/working'\n",
        "KAGGLE_SYMLINK='kaggle'\n",
        "\n",
        "!umount /kaggle/input/ 2> /dev/null\n",
        "shutil.rmtree('/kaggle/input', ignore_errors=True)\n",
        "os.makedirs(KAGGLE_INPUT_PATH, 0o777, exist_ok=True)\n",
        "os.makedirs(KAGGLE_WORKING_PATH, 0o777, exist_ok=True)\n",
        "\n",
        "try:\n",
        "  os.symlink(KAGGLE_INPUT_PATH, os.path.join(\"..\", 'input'), target_is_directory=True)\n",
        "except FileExistsError:\n",
        "  pass\n",
        "try:\n",
        "  os.symlink(KAGGLE_WORKING_PATH, os.path.join(\"..\", 'working'), target_is_directory=True)\n",
        "except FileExistsError:\n",
        "  pass\n",
        "\n",
        "for data_source_mapping in DATA_SOURCE_MAPPING.split(','):\n",
        "    directory, download_url_encoded = data_source_mapping.split(':')\n",
        "    download_url = unquote(download_url_encoded)\n",
        "    filename = urlparse(download_url).path\n",
        "    destination_path = os.path.join(KAGGLE_INPUT_PATH, directory)\n",
        "    try:\n",
        "        with urlopen(download_url) as fileres, NamedTemporaryFile() as tfile:\n",
        "            total_length = fileres.headers['content-length']\n",
        "            print(f'Downloading {directory}, {total_length} bytes compressed')\n",
        "            dl = 0\n",
        "            data = fileres.read(CHUNK_SIZE)\n",
        "            while len(data) > 0:\n",
        "                dl += len(data)\n",
        "                tfile.write(data)\n",
        "                done = int(50 * dl / int(total_length))\n",
        "                sys.stdout.write(f\"\\r[{'=' * done}{' ' * (50-done)}] {dl} bytes downloaded\")\n",
        "                sys.stdout.flush()\n",
        "                data = fileres.read(CHUNK_SIZE)\n",
        "            if filename.endswith('.zip'):\n",
        "              with ZipFile(tfile) as zfile:\n",
        "                zfile.extractall(destination_path)\n",
        "            else:\n",
        "              with tarfile.open(tfile.name) as tarfile:\n",
        "                tarfile.extractall(destination_path)\n",
        "            print(f'\\nDownloaded and uncompressed: {directory}')\n",
        "    except HTTPError as e:\n",
        "        print(f'Failed to load (likely expired) {download_url} to path {destination_path}')\n",
        "        continue\n",
        "    except OSError as e:\n",
        "        print(f'Failed to load {download_url} to path {destination_path}')\n",
        "        continue\n",
        "\n",
        "print('Data source import complete.')\n"
      ],
      "metadata": {
        "colab": {
          "base_uri": "https://localhost:8080/"
        },
        "id": "z_ssizTtJ0p4",
        "outputId": "94bdf257-6fe2-4d34-e3cf-0d23a8b9392f"
      },
      "cell_type": "code",
      "outputs": [
        {
          "output_type": "stream",
          "name": "stdout",
          "text": [
            "Downloading quara-dataset, 22529493 bytes compressed\n",
            "[==================================================] 22529493 bytes downloaded\n",
            "Downloaded and uncompressed: quara-dataset\n",
            "Data source import complete.\n"
          ]
        }
      ],
      "execution_count": 1
    },
    {
      "cell_type": "code",
      "source": [
        "# This Python 3 environment comes with many helpful analytics libraries installed\n",
        "# It is defined by the kaggle/python Docker image: https://github.com/kaggle/docker-python\n",
        "# For example, here's several helpful packages to load\n",
        "\n",
        "import numpy as np # linear algebra\n",
        "import pandas as pd # data processing, CSV file I/O (e.g. pd.read_csv)\n",
        "\n",
        "# Input data files are available in the read-only \"../input/\" directory\n",
        "# For example, running this (by clicking run or pressing Shift+Enter) will list all files under the input directory\n",
        "\n",
        "import os\n",
        "for dirname, _, filenames in os.walk('/kaggle/input'):\n",
        "    for filename in filenames:\n",
        "        print(os.path.join(dirname, filename))\n",
        "\n",
        "# You can write up to 20GB to the current directory (/kaggle/working/) that gets preserved as output when you create a version using \"Save & Run All\"\n",
        "# You can also write temporary files to /kaggle/temp/, but they won't be saved outside of the current session"
      ],
      "metadata": {
        "_uuid": "8f2839f25d086af736a60e9eeb907d3b93b6e0e5",
        "_cell_guid": "b1076dfc-b9ad-4769-8c92-a6c4dae69d19",
        "execution": {
          "iopub.status.busy": "2024-04-18T08:28:27.159968Z",
          "iopub.execute_input": "2024-04-18T08:28:27.16035Z",
          "iopub.status.idle": "2024-04-18T08:28:27.168873Z",
          "shell.execute_reply.started": "2024-04-18T08:28:27.160319Z",
          "shell.execute_reply": "2024-04-18T08:28:27.167991Z"
        },
        "trusted": true,
        "colab": {
          "base_uri": "https://localhost:8080/"
        },
        "id": "npXF2PptJ0p9",
        "outputId": "ee39e9fe-73c6-4b29-dafe-c57bd852512d"
      },
      "execution_count": 2,
      "outputs": [
        {
          "output_type": "stream",
          "name": "stdout",
          "text": [
            "/kaggle/input/quara-dataset/train.csv\n"
          ]
        }
      ]
    },
    {
      "cell_type": "code",
      "source": [
        "# kaggle datasets download -d satyamtripathis/quara-dataset"
      ],
      "metadata": {
        "execution": {
          "iopub.status.busy": "2024-04-19T09:48:06.752294Z",
          "iopub.execute_input": "2024-04-19T09:48:06.752669Z",
          "iopub.status.idle": "2024-04-19T09:48:06.790732Z",
          "shell.execute_reply.started": "2024-04-19T09:48:06.75264Z",
          "shell.execute_reply": "2024-04-19T09:48:06.789607Z"
        },
        "trusted": true,
        "id": "w7ltxVG5J0p_"
      },
      "execution_count": 3,
      "outputs": []
    },
    {
      "cell_type": "code",
      "source": [
        "import warnings\n",
        "warnings.filterwarnings('ignore')"
      ],
      "metadata": {
        "execution": {
          "iopub.status.busy": "2024-04-18T08:28:27.99526Z",
          "iopub.execute_input": "2024-04-18T08:28:27.995862Z",
          "iopub.status.idle": "2024-04-18T08:28:27.99996Z",
          "shell.execute_reply.started": "2024-04-18T08:28:27.995831Z",
          "shell.execute_reply": "2024-04-18T08:28:27.999072Z"
        },
        "trusted": true,
        "id": "_BdQWacTJ0qA"
      },
      "execution_count": 4,
      "outputs": []
    },
    {
      "cell_type": "code",
      "source": [
        "data = pd.read_csv(\"/kaggle/input/quara-dataset/train.csv\")\n",
        "\n",
        "print(data.shape)\n",
        "\n",
        "data.head()"
      ],
      "metadata": {
        "execution": {
          "iopub.status.busy": "2024-04-18T08:28:28.492873Z",
          "iopub.execute_input": "2024-04-18T08:28:28.493288Z",
          "iopub.status.idle": "2024-04-18T08:28:29.727505Z",
          "shell.execute_reply.started": "2024-04-18T08:28:28.493257Z",
          "shell.execute_reply": "2024-04-18T08:28:29.726577Z"
        },
        "trusted": true,
        "colab": {
          "base_uri": "https://localhost:8080/",
          "height": 223
        },
        "id": "zXO5GVwwJ0qB",
        "outputId": "0d458da0-a7a6-459f-e7b2-3d8457e70f3e"
      },
      "execution_count": 5,
      "outputs": [
        {
          "output_type": "stream",
          "name": "stdout",
          "text": [
            "(404290, 6)\n"
          ]
        },
        {
          "output_type": "execute_result",
          "data": {
            "text/plain": [
              "   id  qid1  qid2                                          question1  \\\n",
              "0   0     1     2  What is the step by step guide to invest in sh...   \n",
              "1   1     3     4  What is the story of Kohinoor (Koh-i-Noor) Dia...   \n",
              "2   2     5     6  How can I increase the speed of my internet co...   \n",
              "3   3     7     8  Why am I mentally very lonely? How can I solve...   \n",
              "4   4     9    10  Which one dissolve in water quikly sugar, salt...   \n",
              "\n",
              "                                           question2  is_duplicate  \n",
              "0  What is the step by step guide to invest in sh...             0  \n",
              "1  What would happen if the Indian government sto...             0  \n",
              "2  How can Internet speed be increased by hacking...             0  \n",
              "3  Find the remainder when [math]23^{24}[/math] i...             0  \n",
              "4            Which fish would survive in salt water?             0  "
            ],
            "text/html": [
              "\n",
              "  <div id=\"df-091bf10d-4c1b-40e8-8ab8-8d762b98e0b1\" class=\"colab-df-container\">\n",
              "    <div>\n",
              "<style scoped>\n",
              "    .dataframe tbody tr th:only-of-type {\n",
              "        vertical-align: middle;\n",
              "    }\n",
              "\n",
              "    .dataframe tbody tr th {\n",
              "        vertical-align: top;\n",
              "    }\n",
              "\n",
              "    .dataframe thead th {\n",
              "        text-align: right;\n",
              "    }\n",
              "</style>\n",
              "<table border=\"1\" class=\"dataframe\">\n",
              "  <thead>\n",
              "    <tr style=\"text-align: right;\">\n",
              "      <th></th>\n",
              "      <th>id</th>\n",
              "      <th>qid1</th>\n",
              "      <th>qid2</th>\n",
              "      <th>question1</th>\n",
              "      <th>question2</th>\n",
              "      <th>is_duplicate</th>\n",
              "    </tr>\n",
              "  </thead>\n",
              "  <tbody>\n",
              "    <tr>\n",
              "      <th>0</th>\n",
              "      <td>0</td>\n",
              "      <td>1</td>\n",
              "      <td>2</td>\n",
              "      <td>What is the step by step guide to invest in sh...</td>\n",
              "      <td>What is the step by step guide to invest in sh...</td>\n",
              "      <td>0</td>\n",
              "    </tr>\n",
              "    <tr>\n",
              "      <th>1</th>\n",
              "      <td>1</td>\n",
              "      <td>3</td>\n",
              "      <td>4</td>\n",
              "      <td>What is the story of Kohinoor (Koh-i-Noor) Dia...</td>\n",
              "      <td>What would happen if the Indian government sto...</td>\n",
              "      <td>0</td>\n",
              "    </tr>\n",
              "    <tr>\n",
              "      <th>2</th>\n",
              "      <td>2</td>\n",
              "      <td>5</td>\n",
              "      <td>6</td>\n",
              "      <td>How can I increase the speed of my internet co...</td>\n",
              "      <td>How can Internet speed be increased by hacking...</td>\n",
              "      <td>0</td>\n",
              "    </tr>\n",
              "    <tr>\n",
              "      <th>3</th>\n",
              "      <td>3</td>\n",
              "      <td>7</td>\n",
              "      <td>8</td>\n",
              "      <td>Why am I mentally very lonely? How can I solve...</td>\n",
              "      <td>Find the remainder when [math]23^{24}[/math] i...</td>\n",
              "      <td>0</td>\n",
              "    </tr>\n",
              "    <tr>\n",
              "      <th>4</th>\n",
              "      <td>4</td>\n",
              "      <td>9</td>\n",
              "      <td>10</td>\n",
              "      <td>Which one dissolve in water quikly sugar, salt...</td>\n",
              "      <td>Which fish would survive in salt water?</td>\n",
              "      <td>0</td>\n",
              "    </tr>\n",
              "  </tbody>\n",
              "</table>\n",
              "</div>\n",
              "    <div class=\"colab-df-buttons\">\n",
              "\n",
              "  <div class=\"colab-df-container\">\n",
              "    <button class=\"colab-df-convert\" onclick=\"convertToInteractive('df-091bf10d-4c1b-40e8-8ab8-8d762b98e0b1')\"\n",
              "            title=\"Convert this dataframe to an interactive table.\"\n",
              "            style=\"display:none;\">\n",
              "\n",
              "  <svg xmlns=\"http://www.w3.org/2000/svg\" height=\"24px\" viewBox=\"0 -960 960 960\">\n",
              "    <path d=\"M120-120v-720h720v720H120Zm60-500h600v-160H180v160Zm220 220h160v-160H400v160Zm0 220h160v-160H400v160ZM180-400h160v-160H180v160Zm440 0h160v-160H620v160ZM180-180h160v-160H180v160Zm440 0h160v-160H620v160Z\"/>\n",
              "  </svg>\n",
              "    </button>\n",
              "\n",
              "  <style>\n",
              "    .colab-df-container {\n",
              "      display:flex;\n",
              "      gap: 12px;\n",
              "    }\n",
              "\n",
              "    .colab-df-convert {\n",
              "      background-color: #E8F0FE;\n",
              "      border: none;\n",
              "      border-radius: 50%;\n",
              "      cursor: pointer;\n",
              "      display: none;\n",
              "      fill: #1967D2;\n",
              "      height: 32px;\n",
              "      padding: 0 0 0 0;\n",
              "      width: 32px;\n",
              "    }\n",
              "\n",
              "    .colab-df-convert:hover {\n",
              "      background-color: #E2EBFA;\n",
              "      box-shadow: 0px 1px 2px rgba(60, 64, 67, 0.3), 0px 1px 3px 1px rgba(60, 64, 67, 0.15);\n",
              "      fill: #174EA6;\n",
              "    }\n",
              "\n",
              "    .colab-df-buttons div {\n",
              "      margin-bottom: 4px;\n",
              "    }\n",
              "\n",
              "    [theme=dark] .colab-df-convert {\n",
              "      background-color: #3B4455;\n",
              "      fill: #D2E3FC;\n",
              "    }\n",
              "\n",
              "    [theme=dark] .colab-df-convert:hover {\n",
              "      background-color: #434B5C;\n",
              "      box-shadow: 0px 1px 3px 1px rgba(0, 0, 0, 0.15);\n",
              "      filter: drop-shadow(0px 1px 2px rgba(0, 0, 0, 0.3));\n",
              "      fill: #FFFFFF;\n",
              "    }\n",
              "  </style>\n",
              "\n",
              "    <script>\n",
              "      const buttonEl =\n",
              "        document.querySelector('#df-091bf10d-4c1b-40e8-8ab8-8d762b98e0b1 button.colab-df-convert');\n",
              "      buttonEl.style.display =\n",
              "        google.colab.kernel.accessAllowed ? 'block' : 'none';\n",
              "\n",
              "      async function convertToInteractive(key) {\n",
              "        const element = document.querySelector('#df-091bf10d-4c1b-40e8-8ab8-8d762b98e0b1');\n",
              "        const dataTable =\n",
              "          await google.colab.kernel.invokeFunction('convertToInteractive',\n",
              "                                                    [key], {});\n",
              "        if (!dataTable) return;\n",
              "\n",
              "        const docLinkHtml = 'Like what you see? Visit the ' +\n",
              "          '<a target=\"_blank\" href=https://colab.research.google.com/notebooks/data_table.ipynb>data table notebook</a>'\n",
              "          + ' to learn more about interactive tables.';\n",
              "        element.innerHTML = '';\n",
              "        dataTable['output_type'] = 'display_data';\n",
              "        await google.colab.output.renderOutput(dataTable, element);\n",
              "        const docLink = document.createElement('div');\n",
              "        docLink.innerHTML = docLinkHtml;\n",
              "        element.appendChild(docLink);\n",
              "      }\n",
              "    </script>\n",
              "  </div>\n",
              "\n",
              "\n",
              "<div id=\"df-d81ab7f8-bb17-4c9d-9589-d3be0bca7f8c\">\n",
              "  <button class=\"colab-df-quickchart\" onclick=\"quickchart('df-d81ab7f8-bb17-4c9d-9589-d3be0bca7f8c')\"\n",
              "            title=\"Suggest charts\"\n",
              "            style=\"display:none;\">\n",
              "\n",
              "<svg xmlns=\"http://www.w3.org/2000/svg\" height=\"24px\"viewBox=\"0 0 24 24\"\n",
              "     width=\"24px\">\n",
              "    <g>\n",
              "        <path d=\"M19 3H5c-1.1 0-2 .9-2 2v14c0 1.1.9 2 2 2h14c1.1 0 2-.9 2-2V5c0-1.1-.9-2-2-2zM9 17H7v-7h2v7zm4 0h-2V7h2v10zm4 0h-2v-4h2v4z\"/>\n",
              "    </g>\n",
              "</svg>\n",
              "  </button>\n",
              "\n",
              "<style>\n",
              "  .colab-df-quickchart {\n",
              "      --bg-color: #E8F0FE;\n",
              "      --fill-color: #1967D2;\n",
              "      --hover-bg-color: #E2EBFA;\n",
              "      --hover-fill-color: #174EA6;\n",
              "      --disabled-fill-color: #AAA;\n",
              "      --disabled-bg-color: #DDD;\n",
              "  }\n",
              "\n",
              "  [theme=dark] .colab-df-quickchart {\n",
              "      --bg-color: #3B4455;\n",
              "      --fill-color: #D2E3FC;\n",
              "      --hover-bg-color: #434B5C;\n",
              "      --hover-fill-color: #FFFFFF;\n",
              "      --disabled-bg-color: #3B4455;\n",
              "      --disabled-fill-color: #666;\n",
              "  }\n",
              "\n",
              "  .colab-df-quickchart {\n",
              "    background-color: var(--bg-color);\n",
              "    border: none;\n",
              "    border-radius: 50%;\n",
              "    cursor: pointer;\n",
              "    display: none;\n",
              "    fill: var(--fill-color);\n",
              "    height: 32px;\n",
              "    padding: 0;\n",
              "    width: 32px;\n",
              "  }\n",
              "\n",
              "  .colab-df-quickchart:hover {\n",
              "    background-color: var(--hover-bg-color);\n",
              "    box-shadow: 0 1px 2px rgba(60, 64, 67, 0.3), 0 1px 3px 1px rgba(60, 64, 67, 0.15);\n",
              "    fill: var(--button-hover-fill-color);\n",
              "  }\n",
              "\n",
              "  .colab-df-quickchart-complete:disabled,\n",
              "  .colab-df-quickchart-complete:disabled:hover {\n",
              "    background-color: var(--disabled-bg-color);\n",
              "    fill: var(--disabled-fill-color);\n",
              "    box-shadow: none;\n",
              "  }\n",
              "\n",
              "  .colab-df-spinner {\n",
              "    border: 2px solid var(--fill-color);\n",
              "    border-color: transparent;\n",
              "    border-bottom-color: var(--fill-color);\n",
              "    animation:\n",
              "      spin 1s steps(1) infinite;\n",
              "  }\n",
              "\n",
              "  @keyframes spin {\n",
              "    0% {\n",
              "      border-color: transparent;\n",
              "      border-bottom-color: var(--fill-color);\n",
              "      border-left-color: var(--fill-color);\n",
              "    }\n",
              "    20% {\n",
              "      border-color: transparent;\n",
              "      border-left-color: var(--fill-color);\n",
              "      border-top-color: var(--fill-color);\n",
              "    }\n",
              "    30% {\n",
              "      border-color: transparent;\n",
              "      border-left-color: var(--fill-color);\n",
              "      border-top-color: var(--fill-color);\n",
              "      border-right-color: var(--fill-color);\n",
              "    }\n",
              "    40% {\n",
              "      border-color: transparent;\n",
              "      border-right-color: var(--fill-color);\n",
              "      border-top-color: var(--fill-color);\n",
              "    }\n",
              "    60% {\n",
              "      border-color: transparent;\n",
              "      border-right-color: var(--fill-color);\n",
              "    }\n",
              "    80% {\n",
              "      border-color: transparent;\n",
              "      border-right-color: var(--fill-color);\n",
              "      border-bottom-color: var(--fill-color);\n",
              "    }\n",
              "    90% {\n",
              "      border-color: transparent;\n",
              "      border-bottom-color: var(--fill-color);\n",
              "    }\n",
              "  }\n",
              "</style>\n",
              "\n",
              "  <script>\n",
              "    async function quickchart(key) {\n",
              "      const quickchartButtonEl =\n",
              "        document.querySelector('#' + key + ' button');\n",
              "      quickchartButtonEl.disabled = true;  // To prevent multiple clicks.\n",
              "      quickchartButtonEl.classList.add('colab-df-spinner');\n",
              "      try {\n",
              "        const charts = await google.colab.kernel.invokeFunction(\n",
              "            'suggestCharts', [key], {});\n",
              "      } catch (error) {\n",
              "        console.error('Error during call to suggestCharts:', error);\n",
              "      }\n",
              "      quickchartButtonEl.classList.remove('colab-df-spinner');\n",
              "      quickchartButtonEl.classList.add('colab-df-quickchart-complete');\n",
              "    }\n",
              "    (() => {\n",
              "      let quickchartButtonEl =\n",
              "        document.querySelector('#df-d81ab7f8-bb17-4c9d-9589-d3be0bca7f8c button');\n",
              "      quickchartButtonEl.style.display =\n",
              "        google.colab.kernel.accessAllowed ? 'block' : 'none';\n",
              "    })();\n",
              "  </script>\n",
              "</div>\n",
              "\n",
              "    </div>\n",
              "  </div>\n"
            ],
            "application/vnd.google.colaboratory.intrinsic+json": {
              "type": "dataframe",
              "variable_name": "data"
            }
          },
          "metadata": {},
          "execution_count": 5
        }
      ]
    },
    {
      "cell_type": "code",
      "source": [
        "data['is_duplicate'].value_counts()"
      ],
      "metadata": {
        "execution": {
          "iopub.status.busy": "2024-04-18T08:28:29.729054Z",
          "iopub.execute_input": "2024-04-18T08:28:29.729337Z",
          "iopub.status.idle": "2024-04-18T08:28:29.740174Z",
          "shell.execute_reply.started": "2024-04-18T08:28:29.729313Z",
          "shell.execute_reply": "2024-04-18T08:28:29.739126Z"
        },
        "trusted": true,
        "colab": {
          "base_uri": "https://localhost:8080/"
        },
        "id": "SyxJqHBLJ0qD",
        "outputId": "d5fa956c-f94f-4a7e-b8ed-abe362d60310"
      },
      "execution_count": 6,
      "outputs": [
        {
          "output_type": "execute_result",
          "data": {
            "text/plain": [
              "is_duplicate\n",
              "0    255027\n",
              "1    149263\n",
              "Name: count, dtype: int64"
            ]
          },
          "metadata": {},
          "execution_count": 6
        }
      ]
    },
    {
      "cell_type": "code",
      "source": [
        "import matplotlib.pyplot as plt\n",
        "\n",
        "data['is_duplicate'].value_counts().sort_values().plot(kind='bar')"
      ],
      "metadata": {
        "execution": {
          "iopub.status.busy": "2024-04-18T08:28:29.741388Z",
          "iopub.execute_input": "2024-04-18T08:28:29.741642Z",
          "iopub.status.idle": "2024-04-18T08:28:29.968099Z",
          "shell.execute_reply.started": "2024-04-18T08:28:29.74162Z",
          "shell.execute_reply": "2024-04-18T08:28:29.967234Z"
        },
        "trusted": true,
        "colab": {
          "base_uri": "https://localhost:8080/",
          "height": 461
        },
        "id": "SgOy2whbJ0qE",
        "outputId": "1212182c-0a3f-4e7e-8802-325a5decc68f"
      },
      "execution_count": 7,
      "outputs": [
        {
          "output_type": "execute_result",
          "data": {
            "text/plain": [
              "<Axes: xlabel='is_duplicate'>"
            ]
          },
          "metadata": {},
          "execution_count": 7
        },
        {
          "output_type": "display_data",
          "data": {
            "text/plain": [
              "<Figure size 640x480 with 1 Axes>"
            ],
            "image/png": "[encoded data removed]"
          },
          "metadata": {}
        }
      ]
    },
    {
      "cell_type": "code",
      "source": [
        "data.info()"
      ],
      "metadata": {
        "execution": {
          "iopub.status.busy": "2024-04-18T08:28:29.970127Z",
          "iopub.execute_input": "2024-04-18T08:28:29.970419Z",
          "iopub.status.idle": "2024-04-18T08:28:30.071639Z",
          "shell.execute_reply.started": "2024-04-18T08:28:29.970392Z",
          "shell.execute_reply": "2024-04-18T08:28:30.070602Z"
        },
        "trusted": true,
        "colab": {
          "base_uri": "https://localhost:8080/"
        },
        "id": "5d9ruyCXJ0qF",
        "outputId": "d8525461-9900-49ea-d68d-55640546d313"
      },
      "execution_count": 8,
      "outputs": [
        {
          "output_type": "stream",
          "name": "stdout",
          "text": [
            "<class 'pandas.core.frame.DataFrame'>\n",
            "RangeIndex: 404290 entries, 0 to 404289\n",
            "Data columns (total 6 columns):\n",
            " #   Column        Non-Null Count   Dtype \n",
            "---  ------        --------------   ----- \n",
            " 0   id            404290 non-null  int64 \n",
            " 1   qid1          404290 non-null  int64 \n",
            " 2   qid2          404290 non-null  int64 \n",
            " 3   question1     404289 non-null  object\n",
            " 4   question2     404288 non-null  object\n",
            " 5   is_duplicate  404290 non-null  int64 \n",
            "dtypes: int64(4), object(2)\n",
            "memory usage: 18.5+ MB\n"
          ]
        }
      ]
    },
    {
      "cell_type": "code",
      "source": [
        "import re\n",
        "from bs4 import BeautifulSoup\n",
        "\n",
        "def preprocess(q):\n",
        "\n",
        "    q = str(q).lower().strip()\n",
        "\n",
        "    # removing special charecters\n",
        "    q = q.replace('%','percent')\n",
        "    q = q.replace('$','dollar')\n",
        "    q = q.replace('₹','rupee')\n",
        "    q = q.replace('€','euro')\n",
        "    q = q.replace('@','at')\n",
        "\n",
        "    # [math] comes unecesseroly\n",
        "    q = q.replace('[math]','')\n",
        "\n",
        "#     converting some no. to string equivalents\n",
        "\n",
        "    q = q.replace(',000,000,000 ', 'b ')\n",
        "    q = q.replace(',000,000 ', 'm ')\n",
        "    q = q.replace(',000 ', 'k ')\n",
        "    q = re.sub(r'([0-9]+)000000000', r'\\1b', q)\n",
        "    q = re.sub(r'([0-9]+)000000', r'\\1m', q)\n",
        "    q = re.sub(r'([0-9]+)000', r'\\1k', q)\n",
        "\n",
        "#     Decontracting words, got it from internet\n",
        "\n",
        "    contractions = {\n",
        "    \"ain't\": \"am not\",\n",
        "    \"aren't\": \"are not\",\n",
        "    \"can't\": \"can not\",\n",
        "    \"can't've\": \"can not have\",\n",
        "    \"'cause\": \"baecause\",\n",
        "    \"could've\": \"could have\",\n",
        "    \"couldn't\": \"could not\",\n",
        "    \"couldn't've\": \"could not have\",\n",
        "    \"didn't\": \"did not\",\n",
        "    \"doesn't\": \"does not\",\n",
        "    \"don't\": \"do not\",\n",
        "    \"hadn't\": \"had not\",\n",
        "    \"hadn't've\": \"had not have\",\n",
        "    \"hasn't\": \"has not\",\n",
        "    \"haven't\": \"have not\",\n",
        "    \"he'd\": \"he would\",\n",
        "    \"he'd've\": \"he would have\",\n",
        "    \"he'll\": \"he will\",\n",
        "    \"he'll've\": \"he will have\",\n",
        "    \"he's\": \"he is\",\n",
        "    \"how'd\": \"how did\",\n",
        "    \"how'd'y\": \"how do you\",\n",
        "    \"how'll\": \"how will\",\n",
        "    \"how's\": \"how is\",\n",
        "    \"i'd\": \"i would\",\n",
        "    \"i'd've\": \"i would have\",\n",
        "    \"i'll\": \"i will\",\n",
        "    \"i'll've\": \"i will have\",\n",
        "    \"i'm\": \"i am\",\n",
        "    \"i've\": \"i have\",\n",
        "    \"isn't\": \"is not\",\n",
        "    \"it'd\": \"it would\",\n",
        "    \"it'd've\": \"it would have\",\n",
        "    \"it'll\": \"it will\",\n",
        "    \"it'll've\": \"it will have\",\n",
        "    \"it's\": \"it is\",\n",
        "    \"let's\": \"let us\",\n",
        "    \"ma'am\": \"madam\",\n",
        "    \"mayn't\": \"may not\",\n",
        "    \"might've\": \"might have\",\n",
        "    \"mightn't\": \"might not\",\n",
        "    \"mightn't've\": \"might not have\",\n",
        "    \"must've\": \"must have\",\n",
        "    \"mustn't\": \"must not\",\n",
        "    \"mustn't've\": \"must not have\",\n",
        "    \"needn't\": \"need not\",\n",
        "    \"needn't've\": \"need not have\",\n",
        "    \"o'clock\": \"of the clock\",\n",
        "    \"oughtn't\": \"ought not\",\n",
        "    \"oughtn't've\": \"ought not have\",\n",
        "    \"shan't\": \"shall not\",\n",
        "    \"sha'n't\": \"shall not\",\n",
        "    \"shan't've\": \"shall not have\",\n",
        "    \"she'd\": \"she would\",\n",
        "    \"she'd've\": \"she would have\",\n",
        "    \"she'll\": \"she will\",\n",
        "    \"she'll've\": \"she will have\",\n",
        "    \"she's\": \"she is\",\n",
        "    \"should've\": \"should have\",\n",
        "    \"shouldn't\": \"should not\",\n",
        "    \"shouldn't've\": \"should not have\",\n",
        "    \"so've\": \"so have\",\n",
        "    \"so's\": \"so as\",\n",
        "    \"that'd\": \"that would\",\n",
        "    \"that'd've\": \"that would have\",\n",
        "    \"that's\": \"that is\",\n",
        "    \"there'd\": \"there would\",\n",
        "    \"there'd've\": \"there would have\",\n",
        "    \"there's\": \"there is\",\n",
        "    \"they'd\": \"they would\",\n",
        "    \"they'd've\": \"they would have\",\n",
        "    \"they'll\": \"they will\",\n",
        "    \"they'll've\": \"they will have\",\n",
        "    \"they're\": \"they are\",\n",
        "    \"they've\": \"they have\",\n",
        "    \"to've\": \"to have\",\n",
        "    \"wasn't\": \"was not\",\n",
        "    \"we'd\": \"we would\",\n",
        "    \"we'd've\": \"we would have\",\n",
        "    \"we'll\": \"we will\",\n",
        "    \"we'll've\": \"we will have\",\n",
        "    \"we're\": \"we are\",\n",
        "    \"we've\": \"we have\",\n",
        "    \"weren't\": \"were not\",\n",
        "    \"what'll\": \"what will\",\n",
        "    \"what'll've\": \"what will have\",\n",
        "    \"what're\": \"what are\",\n",
        "    \"what's\": \"what is\",\n",
        "    \"what've\": \"what have\",\n",
        "    \"when's\": \"when is\",\n",
        "    \"when've\": \"when have\",\n",
        "    \"where'd\": \"where did\",\n",
        "    \"where's\": \"where is\",\n",
        "    \"where've\": \"where have\",\n",
        "    \"who'll\": \"who will\",\n",
        "    \"who'll've\": \"who will have\",\n",
        "    \"who's\": \"who is\",\n",
        "    \"who've\": \"who have\",\n",
        "    \"why's\": \"why is\",\n",
        "    \"why've\": \"why have\",\n",
        "    \"will've\": \"will have\",\n",
        "    \"won't\": \"will not\",\n",
        "    \"won't've\": \"will not have\",\n",
        "    \"would've\": \"would have\",\n",
        "    \"wouldn't\": \"would not\",\n",
        "    \"wouldn't've\": \"would not have\",\n",
        "    \"y'all\": \"you all\",\n",
        "    \"y'all'd\": \"you all would\",\n",
        "    \"y'all'd've\": \"you all would have\",\n",
        "    \"y'all're\": \"you all are\",\n",
        "    \"y'all've\": \"you all have\",\n",
        "    \"you'd\": \"you would\",\n",
        "    \"you'd've\": \"you would have\",\n",
        "    \"you'll\": \"you will\",\n",
        "    \"you'll've\": \"you will have\",\n",
        "    \"you're\": \"you are\",\n",
        "    \"you've\": \"you have\"\n",
        "    }\n",
        "\n",
        "    q_decontracted = []\n",
        "\n",
        "    for word in q.split():\n",
        "        if word in contractions:\n",
        "            word = contractions[word]\n",
        "\n",
        "        q_decontracted.append(word)\n",
        "\n",
        "    q = ' '.join(q_decontracted)\n",
        "    q = q.replace(\"'ve\", \" have\")\n",
        "    q = q.replace(\"n't\", \" not\")\n",
        "    q = q.replace(\"'re\", \" are\")\n",
        "    q = q.replace(\"'ll\", \" will\")\n",
        "\n",
        "    q = BeautifulSoup(q)\n",
        "    q = q.get_text()\n",
        "\n",
        "    # Remove punctuations\n",
        "    pattern = re.compile('\\W')\n",
        "    q = re.sub(pattern, ' ', q).strip()\n",
        "\n",
        "\n",
        "    return q\n",
        ""
      ],
      "metadata": {
        "execution": {
          "iopub.status.busy": "2024-04-18T08:28:30.072878Z",
          "iopub.execute_input": "2024-04-18T08:28:30.073195Z",
          "iopub.status.idle": "2024-04-18T08:28:30.094017Z",
          "shell.execute_reply.started": "2024-04-18T08:28:30.073168Z",
          "shell.execute_reply": "2024-04-18T08:28:30.093019Z"
        },
        "trusted": true,
        "id": "5mDO_QzLJ0qF"
      },
      "execution_count": 9,
      "outputs": []
    },
    {
      "cell_type": "code",
      "source": [
        "data['question1'] = data['question1'].apply(preprocess)\n",
        "data['question2'] = data['question2'].apply(preprocess)"
      ],
      "metadata": {
        "execution": {
          "iopub.status.busy": "2024-04-18T08:28:30.095241Z",
          "iopub.execute_input": "2024-04-18T08:28:30.095534Z",
          "iopub.status.idle": "2024-04-18T08:31:44.096091Z",
          "shell.execute_reply.started": "2024-04-18T08:28:30.095508Z",
          "shell.execute_reply": "2024-04-18T08:31:44.095229Z"
        },
        "trusted": true,
        "id": "JSQnQarKJ0qH"
      },
      "execution_count": 10,
      "outputs": []
    },
    {
      "cell_type": "code",
      "source": [
        "data['q1_len'] = data['question1'].str.len()\n",
        "data['q2_len'] = data['question2'].str.len()\n",
        "\n",
        "data['q1_num_words'] = data['question1'].apply(lambda row: len(row.split(\" \")))\n",
        "data['q2_num_words'] = data['question2'].apply(lambda row: len(row.split(\" \")))"
      ],
      "metadata": {
        "execution": {
          "iopub.status.busy": "2024-04-18T08:31:44.097247Z",
          "iopub.execute_input": "2024-04-18T08:31:44.097533Z",
          "iopub.status.idle": "2024-04-18T08:31:45.672029Z",
          "shell.execute_reply.started": "2024-04-18T08:31:44.097509Z",
          "shell.execute_reply": "2024-04-18T08:31:45.671137Z"
        },
        "trusted": true,
        "id": "7OWraP80J0qI"
      },
      "execution_count": 11,
      "outputs": []
    },
    {
      "cell_type": "code",
      "source": [
        "def common_words(row):\n",
        "    w1 = set(map(lambda word: word.lower().strip(), row['question1'].split(\" \")))\n",
        "    w2 = set(map(lambda word: word.lower().strip(), row['question2'].split(\" \")))\n",
        "    return len(w1 & w2)\n",
        "\n",
        "def total_words(row):\n",
        "    w1 = set(map(lambda word: word.lower().strip(), row['question1'].split(\" \")))\n",
        "    w2 = set(map(lambda word: word.lower().strip(), row['question2'].split(\" \")))\n",
        "    return (len(w1) + len(w2))"
      ],
      "metadata": {
        "execution": {
          "iopub.status.busy": "2024-04-18T08:31:45.673261Z",
          "iopub.execute_input": "2024-04-18T08:31:45.673592Z",
          "iopub.status.idle": "2024-04-18T08:31:45.680955Z",
          "shell.execute_reply.started": "2024-04-18T08:31:45.673558Z",
          "shell.execute_reply": "2024-04-18T08:31:45.679979Z"
        },
        "trusted": true,
        "id": "iHZbMrTlJ0qI"
      },
      "execution_count": 12,
      "outputs": []
    },
    {
      "cell_type": "code",
      "source": [
        "data['word_common'] = data.apply(common_words, axis=1)\n",
        "data['word_total'] = data.apply(total_words, axis=1)"
      ],
      "metadata": {
        "execution": {
          "iopub.status.busy": "2024-04-18T08:31:45.68205Z",
          "iopub.execute_input": "2024-04-18T08:31:45.682334Z",
          "iopub.status.idle": "2024-04-18T08:32:07.788899Z",
          "shell.execute_reply.started": "2024-04-18T08:31:45.682301Z",
          "shell.execute_reply": "2024-04-18T08:32:07.788125Z"
        },
        "trusted": true,
        "id": "qKj95hr2J0qI"
      },
      "execution_count": 13,
      "outputs": []
    },
    {
      "cell_type": "code",
      "source": [
        "data['word_share'] = round(data['word_common']/data['word_total'],2)"
      ],
      "metadata": {
        "execution": {
          "iopub.status.busy": "2024-04-18T08:32:07.79228Z",
          "iopub.execute_input": "2024-04-18T08:32:07.792569Z",
          "iopub.status.idle": "2024-04-18T08:32:07.799793Z",
          "shell.execute_reply.started": "2024-04-18T08:32:07.792544Z",
          "shell.execute_reply": "2024-04-18T08:32:07.798909Z"
        },
        "trusted": true,
        "id": "jX0VD_kqJ0qJ"
      },
      "execution_count": 14,
      "outputs": []
    },
    {
      "cell_type": "code",
      "source": [
        "# Advanced Features\n",
        "from nltk.corpus import stopwords\n",
        "import nltk\n",
        "nltk.download('stopwords')\n",
        "\n",
        "def fetch_token_features(row):\n",
        "\n",
        "    q1 = row['question1']\n",
        "    q2 = row['question2']\n",
        "\n",
        "    SAFE_DIV = 0.0001\n",
        "\n",
        "    STOP_WORDS = stopwords.words(\"english\")\n",
        "\n",
        "    token_features = [0.0]*8\n",
        "\n",
        "    # Converting the Sentence into Tokens:\n",
        "    q1_tokens = q1.split()\n",
        "    q2_tokens = q2.split()\n",
        "\n",
        "    if len(q1_tokens) == 0 or len(q2_tokens) == 0:\n",
        "        return token_features\n",
        "\n",
        "    # Get the non-stopwords in Questions\n",
        "    q1_words = set([word for word in q1_tokens if word not in STOP_WORDS])\n",
        "    q2_words = set([word for word in q2_tokens if word not in STOP_WORDS])\n",
        "\n",
        "    #Get the stopwords in Questions\n",
        "    q1_stops = set([word for word in q1_tokens if word in STOP_WORDS])\n",
        "    q2_stops = set([word for word in q2_tokens if word in STOP_WORDS])\n",
        "\n",
        "    # Get the common non-stopwords from Question pair\n",
        "    common_word_count = len(q1_words.intersection(q2_words))\n",
        "\n",
        "    # Get the common stopwords from Question pair\n",
        "    common_stop_count = len(q1_stops.intersection(q2_stops))\n",
        "\n",
        "    # Get the common Tokens from Question pair\n",
        "    common_token_count = len(set(q1_tokens).intersection(set(q2_tokens)))\n",
        "\n",
        "\n",
        "    token_features[0] = common_word_count / (min(len(q1_words), len(q2_words)) + SAFE_DIV)\n",
        "    token_features[1] = common_word_count / (max(len(q1_words), len(q2_words)) + SAFE_DIV)\n",
        "    token_features[2] = common_stop_count / (min(len(q1_stops), len(q2_stops)) + SAFE_DIV)\n",
        "    token_features[3] = common_stop_count / (max(len(q1_stops), len(q2_stops)) + SAFE_DIV)\n",
        "    token_features[4] = common_token_count / (min(len(q1_tokens), len(q2_tokens)) + SAFE_DIV)\n",
        "    token_features[5] = common_token_count / (max(len(q1_tokens), len(q2_tokens)) + SAFE_DIV)\n",
        "\n",
        "    # Last word of both question is same or not\n",
        "    token_features[6] = int(q1_tokens[-1] == q2_tokens[-1])\n",
        "\n",
        "    # First word of both question is same or not\n",
        "    token_features[7] = int(q1_tokens[0] == q2_tokens[0])\n",
        "\n",
        "    return token_features"
      ],
      "metadata": {
        "execution": {
          "iopub.status.busy": "2024-04-18T08:32:07.801188Z",
          "iopub.execute_input": "2024-04-18T08:32:07.801472Z",
          "iopub.status.idle": "2024-04-18T08:32:07.813758Z",
          "shell.execute_reply.started": "2024-04-18T08:32:07.801432Z",
          "shell.execute_reply": "2024-04-18T08:32:07.812944Z"
        },
        "trusted": true,
        "colab": {
          "base_uri": "https://localhost:8080/"
        },
        "id": "Wt6msKuqJ0qJ",
        "outputId": "e7c8118d-82a1-45bb-f151-5de7c1b86e2e"
      },
      "execution_count": 17,
      "outputs": [
        {
          "output_type": "stream",
          "name": "stderr",
          "text": [
            "[nltk_data] Downloading package stopwords to /root/nltk_data...\n",
            "[nltk_data]   Unzipping corpora/stopwords.zip.\n"
          ]
        }
      ]
    },
    {
      "cell_type": "code",
      "source": [
        "token_features = data.apply(fetch_token_features, axis=1)\n",
        "\n",
        "data[\"cwc_min\"]       = list(map(lambda x: x[0], token_features))\n",
        "data[\"cwc_max\"]       = list(map(lambda x: x[1], token_features))\n",
        "data[\"csc_min\"]       = list(map(lambda x: x[2], token_features))\n",
        "data[\"csc_max\"]       = list(map(lambda x: x[3], token_features))\n",
        "data[\"ctc_min\"]       = list(map(lambda x: x[4], token_features))\n",
        "data[\"ctc_max\"]       = list(map(lambda x: x[5], token_features))\n",
        "data[\"last_word_eq\"]  = list(map(lambda x: x[6], token_features))\n",
        "data[\"first_word_eq\"] = list(map(lambda x: x[7], token_features))"
      ],
      "metadata": {
        "execution": {
          "iopub.status.busy": "2024-04-18T08:32:07.814903Z",
          "iopub.execute_input": "2024-04-18T08:32:07.816169Z",
          "iopub.status.idle": "2024-04-18T08:33:48.440238Z",
          "shell.execute_reply.started": "2024-04-18T08:32:07.816143Z",
          "shell.execute_reply": "2024-04-18T08:33:48.439238Z"
        },
        "trusted": true,
        "id": "YmBhQ_pRJ0qJ"
      },
      "execution_count": 18,
      "outputs": []
    },
    {
      "cell_type": "code",
      "source": [
        "!pip install distance"
      ],
      "metadata": {
        "execution": {
          "iopub.status.busy": "2024-04-18T08:33:48.441521Z",
          "iopub.execute_input": "2024-04-18T08:33:48.441908Z",
          "iopub.status.idle": "2024-04-18T08:34:00.579558Z",
          "shell.execute_reply.started": "2024-04-18T08:33:48.441872Z",
          "shell.execute_reply": "2024-04-18T08:34:00.578469Z"
        },
        "trusted": true,
        "colab": {
          "base_uri": "https://localhost:8080/"
        },
        "id": "nd7MkFXJJ0qJ",
        "outputId": "4f1c9947-457e-4e64-f52e-b1cd452cd0eb"
      },
      "execution_count": 19,
      "outputs": [
        {
          "output_type": "stream",
          "name": "stdout",
          "text": [
            "Collecting distance\n",
            "  Downloading Distance-0.1.3.tar.gz (180 kB)\n",
            "\u001b[?25l     \u001b[90m━━━━━━━━━━━━━━━━━━━━━━━━━━━━━━━━━━━━━━━━\u001b[0m \u001b[32m0.0/180.3 kB\u001b[0m \u001b[31m?\u001b[0m eta \u001b[36m-:--:--\u001b[0m\r\u001b[2K     \u001b[91m━━━━━━━━━━━━━━━━━━━━━━━━━━━━━━━\u001b[0m\u001b[91m╸\u001b[0m\u001b[90m━━━━━━━━\u001b[0m \u001b[32m143.4/180.3 kB\u001b[0m \u001b[31m5.0 MB/s\u001b[0m eta \u001b[36m0:00:01\u001b[0m\r\u001b[2K     \u001b[90m━━━━━━━━━━━━━━━━━━━━━━━━━━━━━━━━━━━━━━━━\u001b[0m \u001b[32m180.3/180.3 kB\u001b[0m \u001b[31m4.5 MB/s\u001b[0m eta \u001b[36m0:00:00\u001b[0m\n",
            "\u001b[?25h  Preparing metadata (setup.py) ... \u001b[?25l\u001b[?25hdone\n",
            "Building wheels for collected packages: distance\n",
            "  Building wheel for distance (setup.py) ... \u001b[?25l\u001b[?25hdone\n",
            "  Created wheel for distance: filename=Distance-0.1.3-py3-none-any.whl size=16258 sha256=933f82daefc47e0c267643e714da682025c34a2cdae449ff16e05b4ce499f731\n",
            "  Stored in directory: /root/.cache/pip/wheels/e8/bb/de/f71bf63559ea9a921059a5405806f7ff6ed612a9231c4a9309\n",
            "Successfully built distance\n",
            "Installing collected packages: distance\n",
            "Successfully installed distance-0.1.3\n"
          ]
        }
      ]
    },
    {
      "cell_type": "code",
      "source": [
        "import distance\n",
        "\n",
        "def fetch_length_features(row):\n",
        "    q1 = row['question1']\n",
        "    q2 = row['question2']\n",
        "\n",
        "    length_features = [0.0]*3\n",
        "\n",
        "    # Converting the Sentence into Tokens:\n",
        "    q1_tokens = q1.split()\n",
        "    q2_tokens = q2.split()\n",
        "\n",
        "    if len(q1_tokens) == 0 or len(q2_tokens) == 0:\n",
        "        return length_features\n",
        "\n",
        "    # Absolute length features\n",
        "    length_features[0] = abs(len(q1_tokens) - len(q2_tokens))\n",
        "\n",
        "    #Average Token Length of both Questions\n",
        "    length_features[1] = (len(q1_tokens) + len(q2_tokens))/2\n",
        "\n",
        "#     lst=[q1[i:j] for i in range(len(q1)) for j in range(len(q1)) if q1[i:j] in q2]\n",
        "#     result = max(lst, key = len)\n",
        "\n",
        "    strs = list(distance.lcsubstrings(q1, q2))\n",
        "    if strs:\n",
        "        length_features[2] = len(strs[0]) / (min(len(q1), len(q2)) + 1)\n",
        "    else:\n",
        "        length_features[2] = 0\n",
        "\n",
        "    return length_features"
      ],
      "metadata": {
        "execution": {
          "iopub.status.busy": "2024-04-18T08:34:00.581434Z",
          "iopub.execute_input": "2024-04-18T08:34:00.581829Z",
          "iopub.status.idle": "2024-04-18T08:34:00.591087Z",
          "shell.execute_reply.started": "2024-04-18T08:34:00.581791Z",
          "shell.execute_reply": "2024-04-18T08:34:00.590132Z"
        },
        "trusted": true,
        "id": "sEeSxSxjJ0qK"
      },
      "execution_count": 20,
      "outputs": []
    },
    {
      "cell_type": "code",
      "source": [
        "length_features = data.apply(fetch_length_features, axis=1)\n",
        "\n",
        "data['abs_len_diff'] = list(map(lambda x: x[0], length_features))\n",
        "data['mean_len'] = list(map(lambda x: x[1], length_features))\n",
        "data['longest_substr_ratio'] = list(map(lambda x: x[2], length_features))"
      ],
      "metadata": {
        "execution": {
          "iopub.status.busy": "2024-04-18T08:34:00.592333Z",
          "iopub.execute_input": "2024-04-18T08:34:00.592605Z",
          "iopub.status.idle": "2024-04-18T08:45:05.402822Z",
          "shell.execute_reply.started": "2024-04-18T08:34:00.592581Z",
          "shell.execute_reply": "2024-04-18T08:45:05.401758Z"
        },
        "trusted": true,
        "id": "MLR1vw22J0qL"
      },
      "execution_count": 21,
      "outputs": []
    },
    {
      "cell_type": "code",
      "source": [
        "ques1 = data['question1'].astype(str).tolist()\n",
        "ques2 = data['question2'].astype(str).tolist()"
      ],
      "metadata": {
        "execution": {
          "iopub.status.busy": "2024-04-18T08:45:05.404374Z",
          "iopub.execute_input": "2024-04-18T08:45:05.404749Z",
          "iopub.status.idle": "2024-04-18T08:45:05.525563Z",
          "shell.execute_reply.started": "2024-04-18T08:45:05.404717Z",
          "shell.execute_reply": "2024-04-18T08:45:05.524488Z"
        },
        "trusted": true,
        "id": "pQo_dikBJ0qL"
      },
      "execution_count": 22,
      "outputs": []
    },
    {
      "cell_type": "code",
      "source": [
        "ques2[:3]"
      ],
      "metadata": {
        "execution": {
          "iopub.status.busy": "2024-04-18T08:45:05.52687Z",
          "iopub.execute_input": "2024-04-18T08:45:05.527197Z",
          "iopub.status.idle": "2024-04-18T08:45:05.533753Z",
          "shell.execute_reply.started": "2024-04-18T08:45:05.527171Z",
          "shell.execute_reply": "2024-04-18T08:45:05.532871Z"
        },
        "trusted": true,
        "colab": {
          "base_uri": "https://localhost:8080/"
        },
        "id": "I88kOw7FJ0qM",
        "outputId": "57b0229b-aa4b-4d13-efca-c6492fbc4591"
      },
      "execution_count": 23,
      "outputs": [
        {
          "output_type": "execute_result",
          "data": {
            "text/plain": [
              "['what is the step by step guide to invest in share market',\n",
              " 'what would happen if the indian government stole the kohinoor  koh i noor  diamond back',\n",
              " 'how can internet speed be increased by hacking through dns']"
            ]
          },
          "metadata": {},
          "execution_count": 23
        }
      ]
    },
    {
      "cell_type": "markdown",
      "source": [
        "# Tokenization"
      ],
      "metadata": {
        "id": "1myCxynNJ0qM"
      }
    },
    {
      "cell_type": "code",
      "source": [
        "from tensorflow.keras.preprocessing.text import Tokenizer"
      ],
      "metadata": {
        "execution": {
          "iopub.status.busy": "2024-04-18T08:45:05.535409Z",
          "iopub.execute_input": "2024-04-18T08:45:05.535985Z",
          "iopub.status.idle": "2024-04-18T08:45:05.543433Z",
          "shell.execute_reply.started": "2024-04-18T08:45:05.535954Z",
          "shell.execute_reply": "2024-04-18T08:45:05.542579Z"
        },
        "trusted": true,
        "id": "7FfSScuNJ0qO"
      },
      "execution_count": 24,
      "outputs": []
    },
    {
      "cell_type": "code",
      "source": [
        "tokenizer = Tokenizer(oov_token='not available')\n",
        "ques = ques1+ques2\n",
        "tokenizer.fit_on_texts(ques)"
      ],
      "metadata": {
        "execution": {
          "iopub.status.busy": "2024-04-18T08:45:05.544476Z",
          "iopub.execute_input": "2024-04-18T08:45:05.545239Z",
          "iopub.status.idle": "2024-04-18T08:45:20.933588Z",
          "shell.execute_reply.started": "2024-04-18T08:45:05.545208Z",
          "shell.execute_reply": "2024-04-18T08:45:20.932774Z"
        },
        "trusted": true,
        "id": "8Gl3qUkGJ0qO"
      },
      "execution_count": 25,
      "outputs": []
    },
    {
      "cell_type": "code",
      "source": [
        "len(tokenizer.word_counts)"
      ],
      "metadata": {
        "execution": {
          "iopub.status.busy": "2024-04-18T08:45:20.934954Z",
          "iopub.execute_input": "2024-04-18T08:45:20.935323Z",
          "iopub.status.idle": "2024-04-18T08:45:20.941916Z",
          "shell.execute_reply.started": "2024-04-18T08:45:20.935292Z",
          "shell.execute_reply": "2024-04-18T08:45:20.940974Z"
        },
        "trusted": true,
        "colab": {
          "base_uri": "https://localhost:8080/"
        },
        "id": "uOvtPznQJ0qP",
        "outputId": "2cb3f557-f009-4c6f-a589-897eb2e7e604"
      },
      "execution_count": 26,
      "outputs": [
        {
          "output_type": "execute_result",
          "data": {
            "text/plain": [
              "86785"
            ]
          },
          "metadata": {},
          "execution_count": 26
        }
      ]
    },
    {
      "cell_type": "code",
      "source": [
        "encoded_q1 = tokenizer.texts_to_sequences(ques1)\n",
        "encoded_q2 = tokenizer.texts_to_sequences(ques2)"
      ],
      "metadata": {
        "execution": {
          "iopub.status.busy": "2024-04-18T08:45:20.943136Z",
          "iopub.execute_input": "2024-04-18T08:45:20.943412Z",
          "iopub.status.idle": "2024-04-18T08:45:34.598768Z",
          "shell.execute_reply.started": "2024-04-18T08:45:20.943389Z",
          "shell.execute_reply": "2024-04-18T08:45:34.59798Z"
        },
        "trusted": true,
        "id": "k3EZUo83J0qP"
      },
      "execution_count": 27,
      "outputs": []
    },
    {
      "cell_type": "code",
      "source": [
        "print(ques1[0])\n",
        "encoded_q1[0]"
      ],
      "metadata": {
        "execution": {
          "iopub.status.busy": "2024-04-18T08:45:34.60013Z",
          "iopub.execute_input": "2024-04-18T08:45:34.600485Z",
          "iopub.status.idle": "2024-04-18T08:45:34.607774Z",
          "shell.execute_reply.started": "2024-04-18T08:45:34.60045Z",
          "shell.execute_reply": "2024-04-18T08:45:34.606812Z"
        },
        "trusted": true,
        "colab": {
          "base_uri": "https://localhost:8080/"
        },
        "id": "m6K-oCOMJ0qQ",
        "outputId": "98e09494-97b1-47aa-d873-33c392879466"
      },
      "execution_count": 28,
      "outputs": [
        {
          "output_type": "stream",
          "name": "stdout",
          "text": [
            "what is the step by step guide to invest in share market in india\n"
          ]
        },
        {
          "output_type": "execute_result",
          "data": {
            "text/plain": [
              "[3, 4, 2, 1216, 60, 1216, 2560, 8, 575, 9, 754, 380, 9, 38]"
            ]
          },
          "metadata": {},
          "execution_count": 28
        }
      ]
    },
    {
      "cell_type": "code",
      "source": [
        "from keras.preprocessing.sequence import pad_sequences\n",
        "maxlen = 100\n",
        "pad_q1 = pad_sequences(encoded_q1,maxlen=maxlen)\n",
        "pad_q2 = pad_sequences(encoded_q2,maxlen=maxlen)"
      ],
      "metadata": {
        "execution": {
          "iopub.status.busy": "2024-04-18T08:45:34.609178Z",
          "iopub.execute_input": "2024-04-18T08:45:34.609526Z",
          "iopub.status.idle": "2024-04-18T08:45:38.137438Z",
          "shell.execute_reply.started": "2024-04-18T08:45:34.609496Z",
          "shell.execute_reply": "2024-04-18T08:45:38.136631Z"
        },
        "trusted": true,
        "id": "V4I5F-7HJ0qW"
      },
      "execution_count": 29,
      "outputs": []
    },
    {
      "cell_type": "code",
      "source": [
        "pad_q1[2]"
      ],
      "metadata": {
        "execution": {
          "iopub.status.busy": "2024-04-18T08:45:38.138614Z",
          "iopub.execute_input": "2024-04-18T08:45:38.138903Z",
          "iopub.status.idle": "2024-04-18T08:45:38.145995Z",
          "shell.execute_reply.started": "2024-04-18T08:45:38.138878Z",
          "shell.execute_reply": "2024-04-18T08:45:38.144977Z"
        },
        "trusted": true,
        "colab": {
          "base_uri": "https://localhost:8080/"
        },
        "id": "4j8COtWfJ0qX",
        "outputId": "0bb0030b-d833-4b50-8907-b605f666ca3e"
      },
      "execution_count": 30,
      "outputs": [
        {
          "output_type": "execute_result",
          "data": {
            "text/plain": [
              "array([   0,    0,    0,    0,    0,    0,    0,    0,    0,    0,    0,\n",
              "          0,    0,    0,    0,    0,    0,    0,    0,    0,    0,    0,\n",
              "          0,    0,    0,    0,    0,    0,    0,    0,    0,    0,    0,\n",
              "          0,    0,    0,    0,    0,    0,    0,    0,    0,    0,    0,\n",
              "          0,    0,    0,    0,    0,    0,    0,    0,    0,    0,    0,\n",
              "          0,    0,    0,    0,    0,    0,    0,    0,    0,    0,    0,\n",
              "          0,    0,    0,    0,    0,    0,    0,    0,    0,    0,    0,\n",
              "          0,    0,    0,    0,    0,    0,    0,    0,    0,    6,   14,\n",
              "          5,  218,    2,  436,   11,   19,  360, 1809,  200,  145,    7,\n",
              "       2765], dtype=int32)"
            ]
          },
          "metadata": {},
          "execution_count": 30
        }
      ]
    },
    {
      "cell_type": "code",
      "source": [
        "ques_df1 = pd.DataFrame(pad_q1,index=data.index)\n",
        "ques_df2 = pd.DataFrame(pad_q2,index=data.index)\n",
        "\n",
        "ques_df = pd.concat([ques_df1,ques_df2],axis=1)"
      ],
      "metadata": {
        "execution": {
          "iopub.status.busy": "2024-04-18T08:45:38.147116Z",
          "iopub.execute_input": "2024-04-18T08:45:38.147405Z",
          "iopub.status.idle": "2024-04-18T08:45:38.599748Z",
          "shell.execute_reply.started": "2024-04-18T08:45:38.147381Z",
          "shell.execute_reply": "2024-04-18T08:45:38.598676Z"
        },
        "trusted": true,
        "id": "nJZHDgbeJ0qX"
      },
      "execution_count": 31,
      "outputs": []
    },
    {
      "cell_type": "code",
      "source": [
        "fdf = pd.concat([data,ques_df],axis=1)"
      ],
      "metadata": {
        "execution": {
          "iopub.status.busy": "2024-04-18T08:45:38.60122Z",
          "iopub.execute_input": "2024-04-18T08:45:38.601529Z",
          "iopub.status.idle": "2024-04-18T08:45:39.068444Z",
          "shell.execute_reply.started": "2024-04-18T08:45:38.601503Z",
          "shell.execute_reply": "2024-04-18T08:45:39.067487Z"
        },
        "trusted": true,
        "id": "vAu8eMz8J0qX"
      },
      "execution_count": 32,
      "outputs": []
    },
    {
      "cell_type": "code",
      "source": [
        "fdf.head(1)"
      ],
      "metadata": {
        "execution": {
          "iopub.status.busy": "2024-04-18T08:45:39.069588Z",
          "iopub.execute_input": "2024-04-18T08:45:39.069907Z",
          "iopub.status.idle": "2024-04-18T08:45:39.087416Z",
          "shell.execute_reply.started": "2024-04-18T08:45:39.06988Z",
          "shell.execute_reply": "2024-04-18T08:45:39.086448Z"
        },
        "trusted": true,
        "colab": {
          "base_uri": "https://localhost:8080/",
          "height": 199
        },
        "id": "7V6Jll6kJ0qY",
        "outputId": "766d4343-d503-4409-b2e9-69a9429e8fd4"
      },
      "execution_count": 33,
      "outputs": [
        {
          "output_type": "execute_result",
          "data": {
            "text/plain": [
              "   id  qid1  qid2                                          question1  \\\n",
              "0   0     1     2  what is the step by step guide to invest in sh...   \n",
              "\n",
              "                                           question2  is_duplicate  q1_len  \\\n",
              "0  what is the step by step guide to invest in sh...             0      65   \n",
              "\n",
              "   q2_len  q1_num_words  q2_num_words  ...  90    91  92    93    94  95   96  \\\n",
              "0      56            14            12  ...   2  1216  60  1216  2560   8  575   \n",
              "\n",
              "   97   98   99  \n",
              "0   9  754  380  \n",
              "\n",
              "[1 rows x 224 columns]"
            ],
            "text/html": [
              "\n",
              "  <div id=\"df-f9da75fc-1a2c-4078-ae58-c67ea013cf58\" class=\"colab-df-container\">\n",
              "    <div>\n",
              "<style scoped>\n",
              "    .dataframe tbody tr th:only-of-type {\n",
              "        vertical-align: middle;\n",
              "    }\n",
              "\n",
              "    .dataframe tbody tr th {\n",
              "        vertical-align: top;\n",
              "    }\n",
              "\n",
              "    .dataframe thead th {\n",
              "        text-align: right;\n",
              "    }\n",
              "</style>\n",
              "<table border=\"1\" class=\"dataframe\">\n",
              "  <thead>\n",
              "    <tr style=\"text-align: right;\">\n",
              "      <th></th>\n",
              "      <th>id</th>\n",
              "      <th>qid1</th>\n",
              "      <th>qid2</th>\n",
              "      <th>question1</th>\n",
              "      <th>question2</th>\n",
              "      <th>is_duplicate</th>\n",
              "      <th>q1_len</th>\n",
              "      <th>q2_len</th>\n",
              "      <th>q1_num_words</th>\n",
              "      <th>q2_num_words</th>\n",
              "      <th>...</th>\n",
              "      <th>90</th>\n",
              "      <th>91</th>\n",
              "      <th>92</th>\n",
              "      <th>93</th>\n",
              "      <th>94</th>\n",
              "      <th>95</th>\n",
              "      <th>96</th>\n",
              "      <th>97</th>\n",
              "      <th>98</th>\n",
              "      <th>99</th>\n",
              "    </tr>\n",
              "  </thead>\n",
              "  <tbody>\n",
              "    <tr>\n",
              "      <th>0</th>\n",
              "      <td>0</td>\n",
              "      <td>1</td>\n",
              "      <td>2</td>\n",
              "      <td>what is the step by step guide to invest in sh...</td>\n",
              "      <td>what is the step by step guide to invest in sh...</td>\n",
              "      <td>0</td>\n",
              "      <td>65</td>\n",
              "      <td>56</td>\n",
              "      <td>14</td>\n",
              "      <td>12</td>\n",
              "      <td>...</td>\n",
              "      <td>2</td>\n",
              "      <td>1216</td>\n",
              "      <td>60</td>\n",
              "      <td>1216</td>\n",
              "      <td>2560</td>\n",
              "      <td>8</td>\n",
              "      <td>575</td>\n",
              "      <td>9</td>\n",
              "      <td>754</td>\n",
              "      <td>380</td>\n",
              "    </tr>\n",
              "  </tbody>\n",
              "</table>\n",
              "<p>1 rows × 224 columns</p>\n",
              "</div>\n",
              "    <div class=\"colab-df-buttons\">\n",
              "\n",
              "  <div class=\"colab-df-container\">\n",
              "    <button class=\"colab-df-convert\" onclick=\"convertToInteractive('df-f9da75fc-1a2c-4078-ae58-c67ea013cf58')\"\n",
              "            title=\"Convert this dataframe to an interactive table.\"\n",
              "            style=\"display:none;\">\n",
              "\n",
              "  <svg xmlns=\"http://www.w3.org/2000/svg\" height=\"24px\" viewBox=\"0 -960 960 960\">\n",
              "    <path d=\"M120-120v-720h720v720H120Zm60-500h600v-160H180v160Zm220 220h160v-160H400v160Zm0 220h160v-160H400v160ZM180-400h160v-160H180v160Zm440 0h160v-160H620v160ZM180-180h160v-160H180v160Zm440 0h160v-160H620v160Z\"/>\n",
              "  </svg>\n",
              "    </button>\n",
              "\n",
              "  <style>\n",
              "    .colab-df-container {\n",
              "      display:flex;\n",
              "      gap: 12px;\n",
              "    }\n",
              "\n",
              "    .colab-df-convert {\n",
              "      background-color: #E8F0FE;\n",
              "      border: none;\n",
              "      border-radius: 50%;\n",
              "      cursor: pointer;\n",
              "      display: none;\n",
              "      fill: #1967D2;\n",
              "      height: 32px;\n",
              "      padding: 0 0 0 0;\n",
              "      width: 32px;\n",
              "    }\n",
              "\n",
              "    .colab-df-convert:hover {\n",
              "      background-color: #E2EBFA;\n",
              "      box-shadow: 0px 1px 2px rgba(60, 64, 67, 0.3), 0px 1px 3px 1px rgba(60, 64, 67, 0.15);\n",
              "      fill: #174EA6;\n",
              "    }\n",
              "\n",
              "    .colab-df-buttons div {\n",
              "      margin-bottom: 4px;\n",
              "    }\n",
              "\n",
              "    [theme=dark] .colab-df-convert {\n",
              "      background-color: #3B4455;\n",
              "      fill: #D2E3FC;\n",
              "    }\n",
              "\n",
              "    [theme=dark] .colab-df-convert:hover {\n",
              "      background-color: #434B5C;\n",
              "      box-shadow: 0px 1px 3px 1px rgba(0, 0, 0, 0.15);\n",
              "      filter: drop-shadow(0px 1px 2px rgba(0, 0, 0, 0.3));\n",
              "      fill: #FFFFFF;\n",
              "    }\n",
              "  </style>\n",
              "\n",
              "    <script>\n",
              "      const buttonEl =\n",
              "        document.querySelector('#df-f9da75fc-1a2c-4078-ae58-c67ea013cf58 button.colab-df-convert');\n",
              "      buttonEl.style.display =\n",
              "        google.colab.kernel.accessAllowed ? 'block' : 'none';\n",
              "\n",
              "      async function convertToInteractive(key) {\n",
              "        const element = document.querySelector('#df-f9da75fc-1a2c-4078-ae58-c67ea013cf58');\n",
              "        const dataTable =\n",
              "          await google.colab.kernel.invokeFunction('convertToInteractive',\n",
              "                                                    [key], {});\n",
              "        if (!dataTable) return;\n",
              "\n",
              "        const docLinkHtml = 'Like what you see? Visit the ' +\n",
              "          '<a target=\"_blank\" href=https://colab.research.google.com/notebooks/data_table.ipynb>data table notebook</a>'\n",
              "          + ' to learn more about interactive tables.';\n",
              "        element.innerHTML = '';\n",
              "        dataTable['output_type'] = 'display_data';\n",
              "        await google.colab.output.renderOutput(dataTable, element);\n",
              "        const docLink = document.createElement('div');\n",
              "        docLink.innerHTML = docLinkHtml;\n",
              "        element.appendChild(docLink);\n",
              "      }\n",
              "    </script>\n",
              "  </div>\n",
              "\n",
              "\n",
              "    </div>\n",
              "  </div>\n"
            ],
            "application/vnd.google.colaboratory.intrinsic+json": {
              "type": "dataframe",
              "variable_name": "fdf"
            }
          },
          "metadata": {},
          "execution_count": 33
        }
      ]
    },
    {
      "cell_type": "code",
      "source": [
        "fdf = fdf.drop(['id','qid1','qid2','question1','question2'],axis=1)\n",
        "\n",
        "fdf.head()"
      ],
      "metadata": {
        "execution": {
          "iopub.status.busy": "2024-04-18T08:45:39.092708Z",
          "iopub.execute_input": "2024-04-18T08:45:39.093121Z",
          "iopub.status.idle": "2024-04-18T08:45:39.224177Z",
          "shell.execute_reply.started": "2024-04-18T08:45:39.093093Z",
          "shell.execute_reply": "2024-04-18T08:45:39.223218Z"
        },
        "trusted": true,
        "colab": {
          "base_uri": "https://localhost:8080/",
          "height": 255
        },
        "id": "fB3_o79XJ0qY",
        "outputId": "dc2c28dc-243a-47be-c2b8-892fe11ac51c"
      },
      "execution_count": 34,
      "outputs": [
        {
          "output_type": "execute_result",
          "data": {
            "text/plain": [
              "   is_duplicate  q1_len  q2_len  q1_num_words  q2_num_words  word_common  \\\n",
              "0             0      65      56            14            12           11   \n",
              "1             0      50      87            12            17            8   \n",
              "2             0      72      58            14            10            4   \n",
              "3             0      49      58            12            16            1   \n",
              "4             0      75      38            15             7            4   \n",
              "\n",
              "   word_total  word_share   cwc_min   cwc_max  ...    90    91     92    93  \\\n",
              "0          23        0.48  0.999980  0.833319  ...     2  1216     60  1216   \n",
              "1          26        0.31  0.799984  0.399996  ...    84   227  11244     2   \n",
              "2          24        0.17  0.399992  0.333328  ...     6    14    360   436   \n",
              "3          22        0.05  0.000000  0.000000  ...  4142    41   2221  1337   \n",
              "4          21        0.19  0.399992  0.199998  ...     0     0      0    25   \n",
              "\n",
              "      94     95    96     97    98     99  \n",
              "0   2560      8   575      9   754    380  \n",
              "1  14180  13487     5  21047  4491    202  \n",
              "2     26   3315    60   1338   220  10668  \n",
              "3    370      4  2439     60  1337   2221  \n",
              "4   1925     46  1236      9  2031    229  \n",
              "\n",
              "[5 rows x 219 columns]"
            ],
            "text/html": [
              "\n",
              "  <div id=\"df-745b79d3-3ccf-4b4e-bbbb-7315c9557496\" class=\"colab-df-container\">\n",
              "    <div>\n",
              "<style scoped>\n",
              "    .dataframe tbody tr th:only-of-type {\n",
              "        vertical-align: middle;\n",
              "    }\n",
              "\n",
              "    .dataframe tbody tr th {\n",
              "        vertical-align: top;\n",
              "    }\n",
              "\n",
              "    .dataframe thead th {\n",
              "        text-align: right;\n",
              "    }\n",
              "</style>\n",
              "<table border=\"1\" class=\"dataframe\">\n",
              "  <thead>\n",
              "    <tr style=\"text-align: right;\">\n",
              "      <th></th>\n",
              "      <th>is_duplicate</th>\n",
              "      <th>q1_len</th>\n",
              "      <th>q2_len</th>\n",
              "      <th>q1_num_words</th>\n",
              "      <th>q2_num_words</th>\n",
              "      <th>word_common</th>\n",
              "      <th>word_total</th>\n",
              "      <th>word_share</th>\n",
              "      <th>cwc_min</th>\n",
              "      <th>cwc_max</th>\n",
              "      <th>...</th>\n",
              "      <th>90</th>\n",
              "      <th>91</th>\n",
              "      <th>92</th>\n",
              "      <th>93</th>\n",
              "      <th>94</th>\n",
              "      <th>95</th>\n",
              "      <th>96</th>\n",
              "      <th>97</th>\n",
              "      <th>98</th>\n",
              "      <th>99</th>\n",
              "    </tr>\n",
              "  </thead>\n",
              "  <tbody>\n",
              "    <tr>\n",
              "      <th>0</th>\n",
              "      <td>0</td>\n",
              "      <td>65</td>\n",
              "      <td>56</td>\n",
              "      <td>14</td>\n",
              "      <td>12</td>\n",
              "      <td>11</td>\n",
              "      <td>23</td>\n",
              "      <td>0.48</td>\n",
              "      <td>0.999980</td>\n",
              "      <td>0.833319</td>\n",
              "      <td>...</td>\n",
              "      <td>2</td>\n",
              "      <td>1216</td>\n",
              "      <td>60</td>\n",
              "      <td>1216</td>\n",
              "      <td>2560</td>\n",
              "      <td>8</td>\n",
              "      <td>575</td>\n",
              "      <td>9</td>\n",
              "      <td>754</td>\n",
              "      <td>380</td>\n",
              "    </tr>\n",
              "    <tr>\n",
              "      <th>1</th>\n",
              "      <td>0</td>\n",
              "      <td>50</td>\n",
              "      <td>87</td>\n",
              "      <td>12</td>\n",
              "      <td>17</td>\n",
              "      <td>8</td>\n",
              "      <td>26</td>\n",
              "      <td>0.31</td>\n",
              "      <td>0.799984</td>\n",
              "      <td>0.399996</td>\n",
              "      <td>...</td>\n",
              "      <td>84</td>\n",
              "      <td>227</td>\n",
              "      <td>11244</td>\n",
              "      <td>2</td>\n",
              "      <td>14180</td>\n",
              "      <td>13487</td>\n",
              "      <td>5</td>\n",
              "      <td>21047</td>\n",
              "      <td>4491</td>\n",
              "      <td>202</td>\n",
              "    </tr>\n",
              "    <tr>\n",
              "      <th>2</th>\n",
              "      <td>0</td>\n",
              "      <td>72</td>\n",
              "      <td>58</td>\n",
              "      <td>14</td>\n",
              "      <td>10</td>\n",
              "      <td>4</td>\n",
              "      <td>24</td>\n",
              "      <td>0.17</td>\n",
              "      <td>0.399992</td>\n",
              "      <td>0.333328</td>\n",
              "      <td>...</td>\n",
              "      <td>6</td>\n",
              "      <td>14</td>\n",
              "      <td>360</td>\n",
              "      <td>436</td>\n",
              "      <td>26</td>\n",
              "      <td>3315</td>\n",
              "      <td>60</td>\n",
              "      <td>1338</td>\n",
              "      <td>220</td>\n",
              "      <td>10668</td>\n",
              "    </tr>\n",
              "    <tr>\n",
              "      <th>3</th>\n",
              "      <td>0</td>\n",
              "      <td>49</td>\n",
              "      <td>58</td>\n",
              "      <td>12</td>\n",
              "      <td>16</td>\n",
              "      <td>1</td>\n",
              "      <td>22</td>\n",
              "      <td>0.05</td>\n",
              "      <td>0.000000</td>\n",
              "      <td>0.000000</td>\n",
              "      <td>...</td>\n",
              "      <td>4142</td>\n",
              "      <td>41</td>\n",
              "      <td>2221</td>\n",
              "      <td>1337</td>\n",
              "      <td>370</td>\n",
              "      <td>4</td>\n",
              "      <td>2439</td>\n",
              "      <td>60</td>\n",
              "      <td>1337</td>\n",
              "      <td>2221</td>\n",
              "    </tr>\n",
              "    <tr>\n",
              "      <th>4</th>\n",
              "      <td>0</td>\n",
              "      <td>75</td>\n",
              "      <td>38</td>\n",
              "      <td>15</td>\n",
              "      <td>7</td>\n",
              "      <td>4</td>\n",
              "      <td>21</td>\n",
              "      <td>0.19</td>\n",
              "      <td>0.399992</td>\n",
              "      <td>0.199998</td>\n",
              "      <td>...</td>\n",
              "      <td>0</td>\n",
              "      <td>0</td>\n",
              "      <td>0</td>\n",
              "      <td>25</td>\n",
              "      <td>1925</td>\n",
              "      <td>46</td>\n",
              "      <td>1236</td>\n",
              "      <td>9</td>\n",
              "      <td>2031</td>\n",
              "      <td>229</td>\n",
              "    </tr>\n",
              "  </tbody>\n",
              "</table>\n",
              "<p>5 rows × 219 columns</p>\n",
              "</div>\n",
              "    <div class=\"colab-df-buttons\">\n",
              "\n",
              "  <div class=\"colab-df-container\">\n",
              "    <button class=\"colab-df-convert\" onclick=\"convertToInteractive('df-745b79d3-3ccf-4b4e-bbbb-7315c9557496')\"\n",
              "            title=\"Convert this dataframe to an interactive table.\"\n",
              "            style=\"display:none;\">\n",
              "\n",
              "  <svg xmlns=\"http://www.w3.org/2000/svg\" height=\"24px\" viewBox=\"0 -960 960 960\">\n",
              "    <path d=\"M120-120v-720h720v720H120Zm60-500h600v-160H180v160Zm220 220h160v-160H400v160Zm0 220h160v-160H400v160ZM180-400h160v-160H180v160Zm440 0h160v-160H620v160ZM180-180h160v-160H180v160Zm440 0h160v-160H620v160Z\"/>\n",
              "  </svg>\n",
              "    </button>\n",
              "\n",
              "  <style>\n",
              "    .colab-df-container {\n",
              "      display:flex;\n",
              "      gap: 12px;\n",
              "    }\n",
              "\n",
              "    .colab-df-convert {\n",
              "      background-color: #E8F0FE;\n",
              "      border: none;\n",
              "      border-radius: 50%;\n",
              "      cursor: pointer;\n",
              "      display: none;\n",
              "      fill: #1967D2;\n",
              "      height: 32px;\n",
              "      padding: 0 0 0 0;\n",
              "      width: 32px;\n",
              "    }\n",
              "\n",
              "    .colab-df-convert:hover {\n",
              "      background-color: #E2EBFA;\n",
              "      box-shadow: 0px 1px 2px rgba(60, 64, 67, 0.3), 0px 1px 3px 1px rgba(60, 64, 67, 0.15);\n",
              "      fill: #174EA6;\n",
              "    }\n",
              "\n",
              "    .colab-df-buttons div {\n",
              "      margin-bottom: 4px;\n",
              "    }\n",
              "\n",
              "    [theme=dark] .colab-df-convert {\n",
              "      background-color: #3B4455;\n",
              "      fill: #D2E3FC;\n",
              "    }\n",
              "\n",
              "    [theme=dark] .colab-df-convert:hover {\n",
              "      background-color: #434B5C;\n",
              "      box-shadow: 0px 1px 3px 1px rgba(0, 0, 0, 0.15);\n",
              "      filter: drop-shadow(0px 1px 2px rgba(0, 0, 0, 0.3));\n",
              "      fill: #FFFFFF;\n",
              "    }\n",
              "  </style>\n",
              "\n",
              "    <script>\n",
              "      const buttonEl =\n",
              "        document.querySelector('#df-745b79d3-3ccf-4b4e-bbbb-7315c9557496 button.colab-df-convert');\n",
              "      buttonEl.style.display =\n",
              "        google.colab.kernel.accessAllowed ? 'block' : 'none';\n",
              "\n",
              "      async function convertToInteractive(key) {\n",
              "        const element = document.querySelector('#df-745b79d3-3ccf-4b4e-bbbb-7315c9557496');\n",
              "        const dataTable =\n",
              "          await google.colab.kernel.invokeFunction('convertToInteractive',\n",
              "                                                    [key], {});\n",
              "        if (!dataTable) return;\n",
              "\n",
              "        const docLinkHtml = 'Like what you see? Visit the ' +\n",
              "          '<a target=\"_blank\" href=https://colab.research.google.com/notebooks/data_table.ipynb>data table notebook</a>'\n",
              "          + ' to learn more about interactive tables.';\n",
              "        element.innerHTML = '';\n",
              "        dataTable['output_type'] = 'display_data';\n",
              "        await google.colab.output.renderOutput(dataTable, element);\n",
              "        const docLink = document.createElement('div');\n",
              "        docLink.innerHTML = docLinkHtml;\n",
              "        element.appendChild(docLink);\n",
              "      }\n",
              "    </script>\n",
              "  </div>\n",
              "\n",
              "\n",
              "<div id=\"df-feccb3e7-845e-40de-b057-c955567a88ee\">\n",
              "  <button class=\"colab-df-quickchart\" onclick=\"quickchart('df-feccb3e7-845e-40de-b057-c955567a88ee')\"\n",
              "            title=\"Suggest charts\"\n",
              "            style=\"display:none;\">\n",
              "\n",
              "<svg xmlns=\"http://www.w3.org/2000/svg\" height=\"24px\"viewBox=\"0 0 24 24\"\n",
              "     width=\"24px\">\n",
              "    <g>\n",
              "        <path d=\"M19 3H5c-1.1 0-2 .9-2 2v14c0 1.1.9 2 2 2h14c1.1 0 2-.9 2-2V5c0-1.1-.9-2-2-2zM9 17H7v-7h2v7zm4 0h-2V7h2v10zm4 0h-2v-4h2v4z\"/>\n",
              "    </g>\n",
              "</svg>\n",
              "  </button>\n",
              "\n",
              "<style>\n",
              "  .colab-df-quickchart {\n",
              "      --bg-color: #E8F0FE;\n",
              "      --fill-color: #1967D2;\n",
              "      --hover-bg-color: #E2EBFA;\n",
              "      --hover-fill-color: #174EA6;\n",
              "      --disabled-fill-color: #AAA;\n",
              "      --disabled-bg-color: #DDD;\n",
              "  }\n",
              "\n",
              "  [theme=dark] .colab-df-quickchart {\n",
              "      --bg-color: #3B4455;\n",
              "      --fill-color: #D2E3FC;\n",
              "      --hover-bg-color: #434B5C;\n",
              "      --hover-fill-color: #FFFFFF;\n",
              "      --disabled-bg-color: #3B4455;\n",
              "      --disabled-fill-color: #666;\n",
              "  }\n",
              "\n",
              "  .colab-df-quickchart {\n",
              "    background-color: var(--bg-color);\n",
              "    border: none;\n",
              "    border-radius: 50%;\n",
              "    cursor: pointer;\n",
              "    display: none;\n",
              "    fill: var(--fill-color);\n",
              "    height: 32px;\n",
              "    padding: 0;\n",
              "    width: 32px;\n",
              "  }\n",
              "\n",
              "  .colab-df-quickchart:hover {\n",
              "    background-color: var(--hover-bg-color);\n",
              "    box-shadow: 0 1px 2px rgba(60, 64, 67, 0.3), 0 1px 3px 1px rgba(60, 64, 67, 0.15);\n",
              "    fill: var(--button-hover-fill-color);\n",
              "  }\n",
              "\n",
              "  .colab-df-quickchart-complete:disabled,\n",
              "  .colab-df-quickchart-complete:disabled:hover {\n",
              "    background-color: var(--disabled-bg-color);\n",
              "    fill: var(--disabled-fill-color);\n",
              "    box-shadow: none;\n",
              "  }\n",
              "\n",
              "  .colab-df-spinner {\n",
              "    border: 2px solid var(--fill-color);\n",
              "    border-color: transparent;\n",
              "    border-bottom-color: var(--fill-color);\n",
              "    animation:\n",
              "      spin 1s steps(1) infinite;\n",
              "  }\n",
              "\n",
              "  @keyframes spin {\n",
              "    0% {\n",
              "      border-color: transparent;\n",
              "      border-bottom-color: var(--fill-color);\n",
              "      border-left-color: var(--fill-color);\n",
              "    }\n",
              "    20% {\n",
              "      border-color: transparent;\n",
              "      border-left-color: var(--fill-color);\n",
              "      border-top-color: var(--fill-color);\n",
              "    }\n",
              "    30% {\n",
              "      border-color: transparent;\n",
              "      border-left-color: var(--fill-color);\n",
              "      border-top-color: var(--fill-color);\n",
              "      border-right-color: var(--fill-color);\n",
              "    }\n",
              "    40% {\n",
              "      border-color: transparent;\n",
              "      border-right-color: var(--fill-color);\n",
              "      border-top-color: var(--fill-color);\n",
              "    }\n",
              "    60% {\n",
              "      border-color: transparent;\n",
              "      border-right-color: var(--fill-color);\n",
              "    }\n",
              "    80% {\n",
              "      border-color: transparent;\n",
              "      border-right-color: var(--fill-color);\n",
              "      border-bottom-color: var(--fill-color);\n",
              "    }\n",
              "    90% {\n",
              "      border-color: transparent;\n",
              "      border-bottom-color: var(--fill-color);\n",
              "    }\n",
              "  }\n",
              "</style>\n",
              "\n",
              "  <script>\n",
              "    async function quickchart(key) {\n",
              "      const quickchartButtonEl =\n",
              "        document.querySelector('#' + key + ' button');\n",
              "      quickchartButtonEl.disabled = true;  // To prevent multiple clicks.\n",
              "      quickchartButtonEl.classList.add('colab-df-spinner');\n",
              "      try {\n",
              "        const charts = await google.colab.kernel.invokeFunction(\n",
              "            'suggestCharts', [key], {});\n",
              "      } catch (error) {\n",
              "        console.error('Error during call to suggestCharts:', error);\n",
              "      }\n",
              "      quickchartButtonEl.classList.remove('colab-df-spinner');\n",
              "      quickchartButtonEl.classList.add('colab-df-quickchart-complete');\n",
              "    }\n",
              "    (() => {\n",
              "      let quickchartButtonEl =\n",
              "        document.querySelector('#df-feccb3e7-845e-40de-b057-c955567a88ee button');\n",
              "      quickchartButtonEl.style.display =\n",
              "        google.colab.kernel.accessAllowed ? 'block' : 'none';\n",
              "    })();\n",
              "  </script>\n",
              "</div>\n",
              "\n",
              "    </div>\n",
              "  </div>\n"
            ],
            "application/vnd.google.colaboratory.intrinsic+json": {
              "type": "dataframe",
              "variable_name": "fdf"
            }
          },
          "metadata": {},
          "execution_count": 34
        }
      ]
    },
    {
      "cell_type": "code",
      "source": [
        "from sklearn.model_selection import train_test_split\n",
        "X_train,X_test,y_train,y_test = train_test_split(fdf.iloc[:,1:].values,fdf.iloc[:,0].values,test_size=0.2,random_state=1)"
      ],
      "metadata": {
        "execution": {
          "iopub.status.busy": "2024-04-18T08:45:39.225475Z",
          "iopub.execute_input": "2024-04-18T08:45:39.225829Z",
          "iopub.status.idle": "2024-04-18T08:45:40.572967Z",
          "shell.execute_reply.started": "2024-04-18T08:45:39.225794Z",
          "shell.execute_reply": "2024-04-18T08:45:40.572188Z"
        },
        "trusted": true,
        "id": "ROlcPrHKJ0qY"
      },
      "execution_count": 35,
      "outputs": []
    },
    {
      "cell_type": "code",
      "source": [
        "X_train"
      ],
      "metadata": {
        "execution": {
          "iopub.status.busy": "2024-04-18T08:45:40.574061Z",
          "iopub.execute_input": "2024-04-18T08:45:40.57436Z",
          "iopub.status.idle": "2024-04-18T08:45:40.581511Z",
          "shell.execute_reply.started": "2024-04-18T08:45:40.574334Z",
          "shell.execute_reply": "2024-04-18T08:45:40.580595Z"
        },
        "trusted": true,
        "colab": {
          "base_uri": "https://localhost:8080/"
        },
        "id": "mxKOSW5KJ0qY",
        "outputId": "d90d4658-19fb-435d-c110-e139bd8ada6a"
      },
      "execution_count": 36,
      "outputs": [
        {
          "output_type": "execute_result",
          "data": {
            "text/plain": [
              "array([[3.8000e+01, 3.6000e+01, 7.0000e+00, ..., 1.4400e+02, 1.7200e+02,\n",
              "        3.3500e+02],\n",
              "       [4.5000e+01, 3.9000e+01, 9.0000e+00, ..., 8.0000e+00, 2.6000e+01,\n",
              "        3.4015e+04],\n",
              "       [1.1800e+02, 7.5000e+01, 2.2000e+01, ..., 2.0000e+00, 1.5900e+02,\n",
              "        1.7290e+03],\n",
              "       ...,\n",
              "       [2.7000e+01, 3.7000e+01, 5.0000e+00, ..., 3.4100e+02, 1.1000e+01,\n",
              "        5.5980e+03],\n",
              "       [5.6000e+01, 6.4000e+01, 1.0000e+01, ..., 8.6200e+02, 9.0000e+00,\n",
              "        3.8000e+01],\n",
              "       [1.0300e+02, 1.0300e+02, 1.8000e+01, ..., 2.2200e+03, 3.2620e+04,\n",
              "        1.9340e+03]])"
            ]
          },
          "metadata": {},
          "execution_count": 36
        }
      ]
    },
    {
      "cell_type": "code",
      "source": [
        "import tensorflow\n",
        "from keras import Sequential\n",
        "from keras.layers import Dense,Embedding,LSTM,Bidirectional, BatchNormalization,Dropout"
      ],
      "metadata": {
        "execution": {
          "iopub.status.busy": "2024-04-18T08:45:40.582844Z",
          "iopub.execute_input": "2024-04-18T08:45:40.583215Z",
          "iopub.status.idle": "2024-04-18T08:45:40.591331Z",
          "shell.execute_reply.started": "2024-04-18T08:45:40.583181Z",
          "shell.execute_reply": "2024-04-18T08:45:40.5905Z"
        },
        "trusted": true,
        "id": "GBxo6Ur9J0qZ"
      },
      "execution_count": 37,
      "outputs": []
    },
    {
      "cell_type": "code",
      "source": [
        "model = Sequential()\n",
        "\n",
        "model.add(Embedding(len(tokenizer.word_counts),300,input_shape=(218,)))\n",
        "\n",
        "model.add(Bidirectional(LSTM(64,dropout=0.17,recurrent_dropout=0.17)))\n",
        "\n",
        "model.add(Dense(32,activation='relu'))\n",
        "model.add(BatchNormalization())\n",
        "model.add(Dropout(rate=0.25))\n",
        "\n",
        "model.add(Dense(64,activation='relu'))\n",
        "model.add(BatchNormalization())\n",
        "model.add(Dropout(rate=0.30))\n",
        "\n",
        "model.add(Dense(1,activation='sigmoid'))\n",
        "\n",
        "model.compile(loss='binary_crossentropy', optimizer='adam', metrics=['accuracy'])\n"
      ],
      "metadata": {
        "execution": {
          "iopub.status.busy": "2024-04-18T08:45:40.592276Z",
          "iopub.execute_input": "2024-04-18T08:45:40.592509Z",
          "iopub.status.idle": "2024-04-18T08:45:40.732374Z",
          "shell.execute_reply.started": "2024-04-18T08:45:40.592489Z",
          "shell.execute_reply": "2024-04-18T08:45:40.73135Z"
        },
        "trusted": true,
        "colab": {
          "base_uri": "https://localhost:8080/"
        },
        "id": "qfS5oa_mJ0qZ",
        "outputId": "a262390d-f7f7-4906-d489-783cf9a955b8"
      },
      "execution_count": 38,
      "outputs": [
        {
          "output_type": "stream",
          "name": "stderr",
          "text": [
            "WARNING:tensorflow:Layer lstm will not use cuDNN kernels since it doesn't meet the criteria. It will use a generic GPU kernel as fallback when running on GPU.\n",
            "WARNING:tensorflow:Layer lstm will not use cuDNN kernels since it doesn't meet the criteria. It will use a generic GPU kernel as fallback when running on GPU.\n",
            "WARNING:tensorflow:Layer lstm will not use cuDNN kernels since it doesn't meet the criteria. It will use a generic GPU kernel as fallback when running on GPU.\n"
          ]
        }
      ]
    },
    {
      "cell_type": "code",
      "source": [
        "model.summary()"
      ],
      "metadata": {
        "execution": {
          "iopub.status.busy": "2024-04-18T08:45:40.733645Z",
          "iopub.execute_input": "2024-04-18T08:45:40.734343Z",
          "iopub.status.idle": "2024-04-18T08:45:40.758348Z",
          "shell.execute_reply.started": "2024-04-18T08:45:40.734309Z",
          "shell.execute_reply": "2024-04-18T08:45:40.75754Z"
        },
        "trusted": true,
        "colab": {
          "base_uri": "https://localhost:8080/"
        },
        "id": "kdi697_aJ0qZ",
        "outputId": "ccea799a-bb97-4ad9-c618-651d3e3c2660"
      },
      "execution_count": 39,
      "outputs": [
        {
          "output_type": "stream",
          "name": "stdout",
          "text": [
            "Model: \"sequential\"\n",
            "_________________________________________________________________\n",
            " Layer (type)                Output Shape              Param #   \n",
            "=================================================================\n",
            " embedding (Embedding)       (None, 218, 300)          26035500  \n",
            "                                                                 \n",
            " bidirectional (Bidirection  (None, 128)               186880    \n",
            " al)                                                             \n",
            "                                                                 \n",
            " dense (Dense)               (None, 32)                4128      \n",
            "                                                                 \n",
            " batch_normalization (Batch  (None, 32)                128       \n",
            " Normalization)                                                  \n",
            "                                                                 \n",
            " dropout (Dropout)           (None, 32)                0         \n",
            "                                                                 \n",
            " dense_1 (Dense)             (None, 64)                2112      \n",
            "                                                                 \n",
            " batch_normalization_1 (Bat  (None, 64)                256       \n",
            " chNormalization)                                                \n",
            "                                                                 \n",
            " dropout_1 (Dropout)         (None, 64)                0         \n",
            "                                                                 \n",
            " dense_2 (Dense)             (None, 1)                 65        \n",
            "                                                                 \n",
            "=================================================================\n",
            "Total params: 26229069 (100.06 MB)\n",
            "Trainable params: 26228877 (100.06 MB)\n",
            "Non-trainable params: 192 (768.00 Byte)\n",
            "_________________________________________________________________\n"
          ]
        }
      ]
    },
    {
      "cell_type": "code",
      "source": [
        "from keras.utils import plot_model\n",
        "\n",
        "plot_model(model)"
      ],
      "metadata": {
        "execution": {
          "iopub.status.busy": "2024-04-18T08:45:40.759299Z",
          "iopub.execute_input": "2024-04-18T08:45:40.759531Z",
          "iopub.status.idle": "2024-04-18T08:45:40.886261Z",
          "shell.execute_reply.started": "2024-04-18T08:45:40.75951Z",
          "shell.execute_reply": "2024-04-18T08:45:40.885468Z"
        },
        "trusted": true,
        "colab": {
          "base_uri": "https://localhost:8080/",
          "height": 953
        },
        "id": "COqYXimnJ0qa",
        "outputId": "d9c210f9-56ed-4997-c770-3e26e0c31541"
      },
      "execution_count": 40,
      "outputs": [
        {
          "output_type": "execute_result",
          "data": {
            "image/png": "[encoded data removed]",
            "text/plain": [
              "<IPython.core.display.Image object>"
            ]
          },
          "metadata": {},
          "execution_count": 40
        }
      ]
    },
    {
      "cell_type": "code",
      "source": [
        "history = model.fit(X_train,y_train,epochs=10,validation_data = (X_test,y_test),batch_size=1024)"
      ],
      "metadata": {
        "execution": {
          "iopub.status.busy": "2024-04-18T08:45:40.887206Z",
          "iopub.execute_input": "2024-04-18T08:45:40.88746Z"
        },
        "trusted": true,
        "colab": {
          "base_uri": "https://localhost:8080/"
        },
        "id": "cqm8OQ6-J0ql",
        "outputId": "062d7bfc-5346-4230-992d-b7afa7628162"
      },
      "execution_count": 41,
      "outputs": [
        {
          "output_type": "stream",
          "name": "stdout",
          "text": [
            "Epoch 1/10\n",
            "316/316 [==============================] - 496s 2s/step - loss: 0.5268 - accuracy: 0.7289 - val_loss: 0.4994 - val_accuracy: 0.7611\n",
            "Epoch 2/10\n",
            "316/316 [==============================] - 454s 1s/step - loss: 0.4220 - accuracy: 0.7945 - val_loss: 0.4249 - val_accuracy: 0.7900\n",
            "Epoch 3/10\n",
            "316/316 [==============================] - 450s 1s/step - loss: 0.3810 - accuracy: 0.8180 - val_loss: 0.4315 - val_accuracy: 0.7950\n",
            "Epoch 4/10\n",
            "316/316 [==============================] - 469s 1s/step - loss: 0.3498 - accuracy: 0.8328 - val_loss: 0.4497 - val_accuracy: 0.7928\n",
            "Epoch 5/10\n",
            "316/316 [==============================] - 448s 1s/step - loss: 0.3232 - accuracy: 0.8459 - val_loss: 0.4708 - val_accuracy: 0.7965\n",
            "Epoch 6/10\n",
            "316/316 [==============================] - 446s 1s/step - loss: 0.3017 - accuracy: 0.8567 - val_loss: 0.4852 - val_accuracy: 0.7941\n",
            "Epoch 7/10\n",
            "316/316 [==============================] - 440s 1s/step - loss: 0.2822 - accuracy: 0.8660 - val_loss: 0.4881 - val_accuracy: 0.7960\n",
            "Epoch 8/10\n",
            "316/316 [==============================] - 439s 1s/step - loss: 0.2634 - accuracy: 0.8757 - val_loss: 0.5326 - val_accuracy: 0.7972\n",
            "Epoch 9/10\n",
            "316/316 [==============================] - 442s 1s/step - loss: 0.2468 - accuracy: 0.8839 - val_loss: 0.5310 - val_accuracy: 0.7867\n",
            "Epoch 10/10\n",
            "316/316 [==============================] - 443s 1s/step - loss: 0.2330 - accuracy: 0.8911 - val_loss: 0.5383 - val_accuracy: 0.7964\n"
          ]
        }
      ]
    },
    {
      "cell_type": "code",
      "source": [
        "from tensorflow.keras.models import save_model\n",
        "\n",
        "model.save('modelsq1q2.h5')"
      ],
      "metadata": {
        "trusted": true,
        "id": "mQ4IFGYcJ0qm"
      },
      "execution_count": 42,
      "outputs": []
    },
    {
      "cell_type": "code",
      "source": [
        "import pickle\n",
        "\n",
        "# saving\n",
        "with open('tokenizer.pickle', 'wb') as handle:\n",
        "    pickle.dump(tokenizer, handle, protocol=pickle.HIGHEST_PROTOCOL)"
      ],
      "metadata": {
        "execution": {
          "iopub.status.busy": "2024-04-18T08:27:48.512072Z",
          "iopub.execute_input": "2024-04-18T08:27:48.512445Z",
          "iopub.status.idle": "2024-04-18T08:27:48.910728Z",
          "shell.execute_reply.started": "2024-04-18T08:27:48.512415Z",
          "shell.execute_reply": "2024-04-18T08:27:48.909403Z"
        },
        "trusted": true,
        "id": "rW-3rKMSJ0qm"
      },
      "execution_count": 43,
      "outputs": []
    },
    {
      "cell_type": "code",
      "source": [
        "X_test[4].reshape(1,218)"
      ],
      "metadata": {
        "colab": {
          "base_uri": "https://localhost:8080/"
        },
        "id": "VIgvPdmAmQ4e",
        "outputId": "b206ca98-f133-4e9b-f66c-0a3ee6a8c359"
      },
      "execution_count": 66,
      "outputs": [
        {
          "output_type": "execute_result",
          "data": {
            "text/plain": [
              "array([[5.00000000e+01, 2.60000000e+01, 1.20000000e+01, 6.00000000e+00,\n",
              "        1.00000000e+00, 1.60000000e+01, 6.00000000e-02, 4.99975001e-01,\n",
              "        1.66663889e-01, 0.00000000e+00, 0.00000000e+00, 1.66663889e-01,\n",
              "        8.33326389e-02, 0.00000000e+00, 0.00000000e+00, 6.00000000e+00,\n",
              "        9.00000000e+00, 2.59259259e-01, 0.00000000e+00, 0.00000000e+00,\n",
              "        0.00000000e+00, 0.00000000e+00, 0.00000000e+00, 0.00000000e+00,\n",
              "        0.00000000e+00, 0.00000000e+00, 0.00000000e+00, 0.00000000e+00,\n",
              "        0.00000000e+00, 0.00000000e+00, 0.00000000e+00, 0.00000000e+00,\n",
              "        0.00000000e+00, 0.00000000e+00, 0.00000000e+00, 0.00000000e+00,\n",
              "        0.00000000e+00, 0.00000000e+00, 0.00000000e+00, 0.00000000e+00,\n",
              "        0.00000000e+00, 0.00000000e+00, 0.00000000e+00, 0.00000000e+00,\n",
              "        0.00000000e+00, 0.00000000e+00, 0.00000000e+00, 0.00000000e+00,\n",
              "        0.00000000e+00, 0.00000000e+00, 0.00000000e+00, 0.00000000e+00,\n",
              "        0.00000000e+00, 0.00000000e+00, 0.00000000e+00, 0.00000000e+00,\n",
              "        0.00000000e+00, 0.00000000e+00, 0.00000000e+00, 0.00000000e+00,\n",
              "        0.00000000e+00, 0.00000000e+00, 0.00000000e+00, 0.00000000e+00,\n",
              "        0.00000000e+00, 0.00000000e+00, 0.00000000e+00, 0.00000000e+00,\n",
              "        0.00000000e+00, 0.00000000e+00, 0.00000000e+00, 0.00000000e+00,\n",
              "        0.00000000e+00, 0.00000000e+00, 0.00000000e+00, 0.00000000e+00,\n",
              "        0.00000000e+00, 0.00000000e+00, 0.00000000e+00, 0.00000000e+00,\n",
              "        0.00000000e+00, 0.00000000e+00, 0.00000000e+00, 0.00000000e+00,\n",
              "        0.00000000e+00, 0.00000000e+00, 0.00000000e+00, 0.00000000e+00,\n",
              "        0.00000000e+00, 0.00000000e+00, 0.00000000e+00, 0.00000000e+00,\n",
              "        0.00000000e+00, 0.00000000e+00, 0.00000000e+00, 0.00000000e+00,\n",
              "        0.00000000e+00, 0.00000000e+00, 0.00000000e+00, 0.00000000e+00,\n",
              "        0.00000000e+00, 0.00000000e+00, 0.00000000e+00, 0.00000000e+00,\n",
              "        0.00000000e+00, 0.00000000e+00, 1.40000000e+01, 4.70000000e+01,\n",
              "        2.64000000e+02, 2.60000000e+01, 7.00000000e+00, 1.55000000e+02,\n",
              "        8.80000000e+01, 3.79100000e+03, 2.14000000e+02, 2.14000000e+02,\n",
              "        2.10000000e+01, 6.22100000e+03, 0.00000000e+00, 0.00000000e+00,\n",
              "        0.00000000e+00, 0.00000000e+00, 0.00000000e+00, 0.00000000e+00,\n",
              "        0.00000000e+00, 0.00000000e+00, 0.00000000e+00, 0.00000000e+00,\n",
              "        0.00000000e+00, 0.00000000e+00, 0.00000000e+00, 0.00000000e+00,\n",
              "        0.00000000e+00, 0.00000000e+00, 0.00000000e+00, 0.00000000e+00,\n",
              "        0.00000000e+00, 0.00000000e+00, 0.00000000e+00, 0.00000000e+00,\n",
              "        0.00000000e+00, 0.00000000e+00, 0.00000000e+00, 0.00000000e+00,\n",
              "        0.00000000e+00, 0.00000000e+00, 0.00000000e+00, 0.00000000e+00,\n",
              "        0.00000000e+00, 0.00000000e+00, 0.00000000e+00, 0.00000000e+00,\n",
              "        0.00000000e+00, 0.00000000e+00, 0.00000000e+00, 0.00000000e+00,\n",
              "        0.00000000e+00, 0.00000000e+00, 0.00000000e+00, 0.00000000e+00,\n",
              "        0.00000000e+00, 0.00000000e+00, 0.00000000e+00, 0.00000000e+00,\n",
              "        0.00000000e+00, 0.00000000e+00, 0.00000000e+00, 0.00000000e+00,\n",
              "        0.00000000e+00, 0.00000000e+00, 0.00000000e+00, 0.00000000e+00,\n",
              "        0.00000000e+00, 0.00000000e+00, 0.00000000e+00, 0.00000000e+00,\n",
              "        0.00000000e+00, 0.00000000e+00, 0.00000000e+00, 0.00000000e+00,\n",
              "        0.00000000e+00, 0.00000000e+00, 0.00000000e+00, 0.00000000e+00,\n",
              "        0.00000000e+00, 0.00000000e+00, 0.00000000e+00, 0.00000000e+00,\n",
              "        0.00000000e+00, 0.00000000e+00, 0.00000000e+00, 0.00000000e+00,\n",
              "        0.00000000e+00, 0.00000000e+00, 0.00000000e+00, 0.00000000e+00,\n",
              "        0.00000000e+00, 0.00000000e+00, 0.00000000e+00, 0.00000000e+00,\n",
              "        0.00000000e+00, 0.00000000e+00, 0.00000000e+00, 0.00000000e+00,\n",
              "        0.00000000e+00, 0.00000000e+00, 0.00000000e+00, 0.00000000e+00,\n",
              "        0.00000000e+00, 0.00000000e+00, 0.00000000e+00, 0.00000000e+00,\n",
              "        3.00000000e+00, 1.20000000e+01, 3.60000000e+01, 2.14000000e+02,\n",
              "        2.14000000e+02, 1.83000000e+02]])"
            ]
          },
          "metadata": {},
          "execution_count": 66
        }
      ]
    },
    {
      "cell_type": "code",
      "source": [
        "model.predict(X_test[3].reshape(1,218))"
      ],
      "metadata": {
        "colab": {
          "base_uri": "https://localhost:8080/"
        },
        "id": "ABxYDuQ4J0qm",
        "outputId": "24fe70e9-6bba-4a6c-d0ca-3848c0443b64"
      },
      "execution_count": 68,
      "outputs": [
        {
          "output_type": "stream",
          "name": "stdout",
          "text": [
            "1/1 [==============================] - 0s 238ms/step\n"
          ]
        },
        {
          "output_type": "execute_result",
          "data": {
            "text/plain": [
              "array([[0.9647138]], dtype=float32)"
            ]
          },
          "metadata": {},
          "execution_count": 68
        }
      ]
    },
    {
      "cell_type": "code",
      "source": [
        "q1 = 'i am going to market'\n",
        "q2 = 'going to market'\n"
      ],
      "metadata": {
        "id": "6ME6Q-KXnSSe"
      },
      "execution_count": 69,
      "outputs": []
    },
    {
      "cell_type": "code",
      "source": [
        "from keras.models import load_model\n",
        "import pickle"
      ],
      "metadata": {
        "id": "J9t0Zv7JqGhF"
      },
      "execution_count": 70,
      "outputs": []
    },
    {
      "cell_type": "code",
      "source": [
        "lmodel = load_model('/content/modelsq1q2.h5')\n",
        "with open('/content/tokenizer.pickle','rb') as handle:\n",
        "  token = pickle.load(handle)"
      ],
      "metadata": {
        "colab": {
          "base_uri": "https://localhost:8080/"
        },
        "id": "LC9te_bPqLd0",
        "outputId": "cf97f4b7-7e1b-4792-e725-51e9c5bbeddd"
      },
      "execution_count": 71,
      "outputs": [
        {
          "output_type": "stream",
          "name": "stderr",
          "text": [
            "WARNING:tensorflow:Layer lstm will not use cuDNN kernels since it doesn't meet the criteria. It will use a generic GPU kernel as fallback when running on GPU.\n",
            "WARNING:tensorflow:Layer lstm will not use cuDNN kernels since it doesn't meet the criteria. It will use a generic GPU kernel as fallback when running on GPU.\n",
            "WARNING:tensorflow:Layer lstm will not use cuDNN kernels since it doesn't meet the criteria. It will use a generic GPU kernel as fallback when running on GPU.\n"
          ]
        }
      ]
    },
    {
      "cell_type": "code",
      "source": [],
      "metadata": {
        "colab": {
          "base_uri": "https://localhost:8080/"
        },
        "id": "cPZbxvKsqmj3",
        "outputId": "ac523ea6-b71a-45b4-c143-3e67fe7ef68b"
      },
      "execution_count": 73,
      "outputs": [
        {
          "output_type": "stream",
          "name": "stdout",
          "text": [
            "1/1 [==============================] - 1s 508ms/step\n"
          ]
        },
        {
          "output_type": "execute_result",
          "data": {
            "text/plain": [
              "array([[0.9647138]], dtype=float32)"
            ]
          },
          "metadata": {},
          "execution_count": 73
        }
      ]
    },
    {
      "cell_type": "code",
      "source": [],
      "metadata": {
        "id": "3aG9gLmfqpu1"
      },
      "execution_count": null,
      "outputs": []
    }
  ]
}